{
 "cells": [
  {
   "cell_type": "code",
   "execution_count": 1,
   "id": "2ce56b60-2796-4311-90d8-0439fb10cf70",
   "metadata": {},
   "outputs": [],
   "source": [
    "from pyspark import SparkConf\n",
    "from pyspark.sql import SparkSession\n",
    "import pyspark.sql.types as t\n",
    "import pyspark.sql.functions as f"
   ]
  },
  {
   "cell_type": "markdown",
   "id": "261b7e8a-8bda-4c5b-8f5a-dfffce78b7dd",
   "metadata": {},
   "source": [
    "# **Table of Contents**\n",
    "\n",
    "<div class=\"alert alert-block alert-info\" style=\"margin-top: 20px\">\n",
    "\n",
    "1. [Dataset description](#1)\n",
    "2. [Configuration of Spark](#2)\n",
    "3. [Data loading](#3)\n",
    "4. [Data preprocessing](#4)\n",
    "    \n",
    "</div>"
   ]
  },
  {
   "cell_type": "markdown",
   "id": "537e4749-03c7-4745-af66-117a01af8e08",
   "metadata": {},
   "source": [
    "# **1. Dataset description** <a id='1'></a>"
   ]
  },
  {
   "cell_type": "markdown",
   "id": "a05f76f2-976b-4cb9-b6e9-07b9c034430a",
   "metadata": {},
   "source": [
    "<details><summary>Click here for the dataset description</summary>\n",
    "\n",
    "## **Dataset Description (IMDb dataset)**\n",
    "\n",
    "### **Files**\n",
    "* **name.basics.tsv** - \n",
    "* **title.akas.tsv** - \n",
    "* **title.basics.tsv** - \n",
    "* **title.crew.tsv** - \n",
    "* **title.episode.tsv** - \n",
    "* **title.principals.tsv** - \n",
    "* **title.ratings.tsv** - \n",
    "\n",
    "### **name.basics.tsv**\n",
    "\n",
    "|      Name         |    Type          |   Description                                     |\n",
    "| -------------     | ---------------- | ------------------------------------------------- |\n",
    "|     nconst        |   string         | alphanumeric unique identifier of the name/person |\n",
    "|   primaryName     | string           | name by which the person is most often credited   |\n",
    "|     birthYear     | in YYYY format   | birth year                                        |\n",
    "|     deathYear     | in YYYY format   | if applicable, else '\\N'                          |\n",
    "| primaryProfession | array of strings | the top-3 professions of the person               |\n",
    "|   knownForTitles  | array of tconsts | titles the person is known for                    |\n",
    "\n",
    "### **title.akas.tsv**\n",
    "\n",
    "|      Name       |    Type   |   Description    |\n",
    "| -------------   | --------- | ---------------- |\n",
    "| titleId         | string    | a tconst, an alphanumeric unique identifier of the title |\n",
    "| ordering        | integer   | a number to uniquely identify rows for a given titleId |\n",
    "| title           | string    | the localized title |\n",
    "| region          | string    | the region for this version of the title |\n",
    "| language        | string    | the language of the title |\n",
    "| types           | array     | Enumerated set of attributes for this alternative title. One or more of the following: \"alternative\", \"dvd\", \"festival\", \"tv\", \"video\", \"working\", \"original\", \"imdbDisplay\". New values may be added in the future without warning |\n",
    "| attributes      | array     | Additional terms to describe this alternative title, not enumerated |\n",
    "| isOriginalTitle | boolean   | 0: not original title; 1: original title |\n",
    "\n",
    "### **title.basics.tsv**\n",
    "\n",
    "|      Name      |    Type      |   Description   |\n",
    "| -------------  | ------------ | ----------------|\n",
    "| tconst         | string       | alphanumeric unique identifier of the title |\n",
    "| titleType      | string       | the type/format of the title (e.g. movie, short, tvseries, tvepisode, video, etc) |\n",
    "| primaryTitle   | string       | the more popular title / the title used by the filmmakers on promotional materials at the point of release |\n",
    "| originalTitle  | string       | original title, in the original language |\n",
    "| isAdult        | boolean      | 0: non-adult title; 1: adult title |\n",
    "| startYear      | YYYY         | represents the release year of a title. In the case of TV Series, it is the series start year |\n",
    "| endYear        | YYYY         | TV Series end year. ‘\\N’ for all other title types |\n",
    "| runtimeMinutes | integer      | primary runtime of the title, in minutes |\n",
    "| genres         | string array | includes up to three genres associated with the title |\n",
    "\n",
    "### **title.crew.tsv**\n",
    "\n",
    "|      Name     |    Type          |   Description                               |\n",
    "| ------------- | ---------------  | ------------------------------------------- |\n",
    "| tconst        | string           | alphanumeric unique identifier of the title |\n",
    "| directors     | array of nconsts | director(s) of the given title              |\n",
    "| writers       | array of nconsts | writer(s) of the given title                |\n",
    "\n",
    "### **title.episode.tsv**\n",
    "\n",
    "|      Name     |    Type   |   Description                                   |\n",
    "| ------------- | --------- | ----------------------------------------------- |\n",
    "| tconst        | string    | alphanumeric identifier of episode              |\n",
    "| parentTconst  | string    | alphanumeric identifier of the parent TV Series |\n",
    "| seasonNumber  | integer   | season number the episode belongs to            |\n",
    "| episodeNumber | integer   | episode number of the tconst in the TV series   |\n",
    "\n",
    "### **title.principals.tsv**\n",
    "\n",
    "|      Name     |    Type   |   Description                                             |\n",
    "| ------------- | --------- | --------------------------------------------------------- |\n",
    "| tconst        | string    | alphanumeric unique identifier of the title               |\n",
    "| ordering      | integer   | a number to uniquely identify rows for a given titleId    |\n",
    "| nconst        | string    | alphanumeric unique identifier of the name/person         |\n",
    "| category      | string    | the category of job that person was in                    |\n",
    "| job           | string    | the specific job title if applicable, else '\\N'           |\n",
    "| characters    | string    | the name of the character played if applicable, else '\\N' |\n",
    "\n",
    "### **title.ratings.tsv**\n",
    "\n",
    "|      Name     |    Type   |   Description                                        |\n",
    "| ------------- | --------- | ---------------------------------------------------- |\n",
    "| tconst        | string    | alphanumeric unique identifier of the title          |\n",
    "| averageRating | float     | weighted average of all the individual user ratings  |\n",
    "| numVotes      |  integer  | number of votes the title has received               |\n",
    "    \n",
    "</details>"
   ]
  },
  {
   "cell_type": "markdown",
   "id": "7f5490b2-1261-47c4-9a9e-bea9ea140acf",
   "metadata": {},
   "source": [
    "# **2. Configuration of Spark** <a id='2'></a>"
   ]
  },
  {
   "cell_type": "code",
   "execution_count": 2,
   "id": "00a85e23-cbcc-477f-99d2-ea1e9fb677e6",
   "metadata": {},
   "outputs": [],
   "source": [
    "path = 'C:/files/grid-dynamics'"
   ]
  },
  {
   "cell_type": "code",
   "execution_count": 3,
   "id": "1403e705-158c-460f-a962-9a264a2c746a",
   "metadata": {},
   "outputs": [],
   "source": [
    "spark_session = (\n",
    "    SparkSession.builder\n",
    "        .master('local')\n",
    "        .appName('project')\n",
    "        .config(conf=SparkConf())\n",
    "        .getOrCreate()\n",
    ")\n",
    "\n",
    "spark_session.conf.set('spark.sql.repl.eagerEval.enabled', True)"
   ]
  },
  {
   "cell_type": "markdown",
   "id": "2c1279b3-ee86-4896-ae80-e65073af44a2",
   "metadata": {},
   "source": [
    "Defining the schemas"
   ]
  },
  {
   "cell_type": "code",
   "execution_count": 4,
   "id": "9135edf5-2585-467d-b90c-5c612b70854c",
   "metadata": {},
   "outputs": [],
   "source": [
    "name_basics_schema = t.StructType([\n",
    "    t.StructField('nconst', t.StringType(), True),\n",
    "    t.StructField('primaryName', t.StringType(), True),\n",
    "    t.StructField('birthYear', t.DateType(), True),\n",
    "    t.StructField('deathYear', t.DateType(), True),\n",
    "    t.StructField('primaryProfession', t.StringType(), True),\n",
    "    t.StructField('knownForTitles', t.StringType(), True)\n",
    "])\n",
    "\n",
    "akas_schema = t.StructType([\n",
    "    t.StructField('titleId', t.StringType(), True),\n",
    "    t.StructField('ordering', t.IntegerType(), True),\n",
    "    t.StructField('title', t.StringType(), True),\n",
    "    t.StructField('region', t.StringType(), True),\n",
    "    t.StructField('language', t.StringType(), True),\n",
    "    t.StructField('types', t.StringType(), True),\n",
    "    t.StructField('attributes', t.StringType(), True),\n",
    "    t.StructField('isOriginalTitle', t.BooleanType(), True)\n",
    "])\n",
    "\n",
    "title_basics_schema = t.StructType([\n",
    "    t.StructField('tconst', t.StringType(), True),\n",
    "    t.StructField('titleType', t.StringType(), True),\n",
    "    t.StructField('primaryTitle', t.StringType(), True),\n",
    "    t.StructField('originalTitle', t.StringType(), True),\n",
    "    t.StructField('isAdult', t.BooleanType(), True),\n",
    "    t.StructField('startYear', t.DateType(), True),\n",
    "    t.StructField('endYear', t.DateType(), True),\n",
    "    t.StructField('runtimeMinutes', t.IntegerType(), True),\n",
    "    t.StructField('genres', t.StringType(), True),\n",
    "])\n",
    "\n",
    "crew_schema = t.StructType([\n",
    "    t.StructField('tconst', t.StringType(), True),\n",
    "    t.StructField('directors', t.StringType(), True),\n",
    "    t.StructField('writers', t.StringType(), True),\n",
    "])\n",
    "\n",
    "episode_schema = t.StructType([\n",
    "    t.StructField('tconst', t.StringType(), True),\n",
    "    t.StructField('parentTconst', t.StringType(), True),\n",
    "    t.StructField('seasonNumber', t.IntegerType(), True),\n",
    "    t.StructField('episodeNumber', t.IntegerType(), True),\n",
    "])\n",
    "\n",
    "principals_schema = t.StructType([\n",
    "    t.StructField('tconst', t.StringType(), True),\n",
    "    t.StructField('ordering', t.IntegerType(), True),\n",
    "    t.StructField('nconst', t.StringType(), True),\n",
    "    t.StructField('category', t.StringType(), True),\n",
    "    t.StructField('job', t.StringType(), True),\n",
    "    t.StructField('characters', t.StringType(), True)\n",
    "])\n",
    "\n",
    "ratings_schema = t.StructType([\n",
    "    t.StructField('tconst', t.StringType(), True),\n",
    "    t.StructField('averageRating', t.FloatType(), True),\n",
    "    t.StructField('numVotes', t.IntegerType(), True)\n",
    "])"
   ]
  },
  {
   "cell_type": "markdown",
   "id": "955e704c-80c9-4609-881f-86d60399d255",
   "metadata": {},
   "source": [
    "# **3. Data loading** <a id='3'></a>"
   ]
  },
  {
   "cell_type": "markdown",
   "id": "007d3bcf-6df7-4fdc-bae7-bdbb917ff42c",
   "metadata": {},
   "source": [
    "Reading the dataset"
   ]
  },
  {
   "cell_type": "code",
   "execution_count": 5,
   "id": "b974e4b3-477e-42a5-b215-21fc127a4db6",
   "metadata": {},
   "outputs": [],
   "source": [
    "name_basics = spark_session.read.csv(f'{path}/name.basics.tsv', \n",
    "                                    sep=r'\\t', \n",
    "                                    header=True,\n",
    "                                    nullValue='null',\n",
    "                                    schema=name_basics_schema,\n",
    "                                    dateFormat='yyyy')\n",
    "\n",
    "akas = spark_session.read.csv(f'{path}/title.akas.tsv', \n",
    "                                    sep=r'\\t', \n",
    "                                    header=True,\n",
    "                                    nullValue='null',\n",
    "                                    schema=akas_schema)\n",
    "\n",
    "title_basics = spark_session.read.csv(f'{path}/title.basics.tsv', \n",
    "                                    sep=r'\\t', \n",
    "                                    header=True,\n",
    "                                    nullValue='null',\n",
    "                                    schema=title_basics_schema,\n",
    "                                    dateFormat='yyyy')\n",
    "\n",
    "crew = spark_session.read.csv(f'{path}/title.crew.tsv', \n",
    "                                    sep=r'\\t', \n",
    "                                    header=True,\n",
    "                                    nullValue='null',\n",
    "                                    schema=crew_schema)\n",
    "\n",
    "episode = spark_session.read.csv(f'{path}/title.episode.tsv', \n",
    "                                    sep=r'\\t', \n",
    "                                    header=True,\n",
    "                                    nullValue='null',\n",
    "                                    schema=episode_schema)\n",
    "\n",
    "principals = spark_session.read.csv(f'{path}/title.principals.tsv', \n",
    "                                    sep=r'\\t', \n",
    "                                    header=True,\n",
    "                                    nullValue='null',\n",
    "                                    schema=principals_schema)\n",
    "\n",
    "ratings = spark_session.read.csv(f'{path}/title.ratings.tsv', \n",
    "                                    sep=r'\\t', \n",
    "                                    header=True,\n",
    "                                    nullValue='null',\n",
    "                                    schema=ratings_schema)"
   ]
  },
  {
   "cell_type": "markdown",
   "id": "d76028ea-e554-4b97-aecd-bcaaf5f868bc",
   "metadata": {},
   "source": [
    "# **4. Data preprocessing** <a id='4'></a>"
   ]
  },
  {
   "cell_type": "markdown",
   "id": "c46b604b-6223-49eb-8cfb-bc7bc3843562",
   "metadata": {},
   "source": [
    "Replacing '\\N' with null value"
   ]
  },
  {
   "cell_type": "code",
   "execution_count": 6,
   "id": "7c99d921-f9b0-407b-9b39-d1f5e3b4af55",
   "metadata": {},
   "outputs": [],
   "source": [
    "name_basics = name_basics.withColumn('primaryProfession', f.when(f.col('primaryProfession') == r'\\N', None).otherwise(f.col('primaryProfession')))\n",
    "name_basics = name_basics.withColumn('knownForTitles', f.when(f.col('knownForTitles') == r'\\N', None).otherwise(f.col('knownForTitles')))\n",
    "\n",
    "title_basics = title_basics.withColumn('genres', f.when(f.col('genres') == r'\\N', None).otherwise(f.col('genres')))\n",
    "\n",
    "crew = crew.withColumn('writers', f.when(f.col('writers') == r'\\N', None).otherwise(f.col('writers')))\n",
    "crew = crew.withColumn('directors', f.when(f.col('directors') == r'\\N', None).otherwise(f.col('directors')))\n",
    "\n",
    "principals = principals.withColumn('job', f.when(f.col('job') == r'\\N', None).otherwise(f.col('job')))\n",
    "principals = principals.withColumn('characters', f.when(f.col('characters') == r'\\N', None).otherwise(f.col('characters')))\n"
   ]
  },
  {
   "cell_type": "markdown",
   "id": "38b252ca-110c-4e07-a4dc-1e7e815fbce0",
   "metadata": {},
   "source": [
    "Converting strings to array of strings"
   ]
  },
  {
   "cell_type": "code",
   "execution_count": 7,
   "id": "035ebc47-fa52-4490-b8e4-a70fdfb25cb7",
   "metadata": {},
   "outputs": [],
   "source": [
    "name_basics = name_basics.withColumn('primaryProfession', f.split('primaryProfession', ','))\n",
    "name_basics = name_basics.withColumn('knownForTitles', f.split('knownForTitles', ','))\n",
    "\n",
    "title_basics = title_basics.withColumn('genres', f.split('genres', ','))\n",
    "\n",
    "crew = crew.withColumn('directors', f.split('directors', ','))\n",
    "crew = crew.withColumn('writers', f.split('writers', ','))"
   ]
  },
  {
   "cell_type": "markdown",
   "id": "78e43f6c-5bc2-437b-a3aa-7f0915e126ad",
   "metadata": {},
   "source": [
    "Removing unnecessary symbols"
   ]
  },
  {
   "cell_type": "code",
   "execution_count": 8,
   "id": "4fb17950-b8aa-4bbc-a665-8ba8c6f196ab",
   "metadata": {},
   "outputs": [],
   "source": [
    "principals = principals.withColumn('characters', f.regexp_replace('characters', r'[\\[\\]\"]', ''))"
   ]
  },
  {
   "cell_type": "code",
   "execution_count": 11,
   "id": "bcd4f449-edf7-407c-a95a-db1fd7bebae5",
   "metadata": {},
   "outputs": [
    {
     "name": "stdout",
     "output_type": "stream",
     "text": [
      "+---------+--------+---------+---------------+---+------------+\n",
      "|   tconst|ordering|   nconst|       category|job|  characters|\n",
      "+---------+--------+---------+---------------+---+------------+\n",
      "|tt0000001|       1|nm1588970|           self| \\N|        Self|\n",
      "|tt0000001|       2|nm0005690|       director| \\N|          \\N|\n",
      "|tt0000002|       1|nm0721526|       director| \\N|          \\N|\n",
      "|tt0000002|       2|nm1335271|       composer| \\N|          \\N|\n",
      "|tt0000003|       1|nm0721526|       director| \\N|          \\N|\n",
      "|tt0000003|       3|nm1335271|       composer| \\N|          \\N|\n",
      "|tt0000003|       4|nm5442200|         editor| \\N|          \\N|\n",
      "|tt0000004|       1|nm0721526|       director| \\N|          \\N|\n",
      "|tt0000004|       2|nm1335271|       composer| \\N|          \\N|\n",
      "|tt0000005|       1|nm0443482|          actor| \\N|  Blacksmith|\n",
      "|tt0000005|       2|nm0653042|          actor| \\N|   Assistant|\n",
      "|tt0000005|       3|nm0005690|       director| \\N|          \\N|\n",
      "|tt0000006|       1|nm0005690|       director| \\N|          \\N|\n",
      "|tt0000007|       1|nm0179163|          actor| \\N|          \\N|\n",
      "|tt0000007|       2|nm0183947|          actor| \\N|          \\N|\n",
      "|tt0000007|       3|nm0005690|       director| \\N|          \\N|\n",
      "|tt0000007|       4|nm0374658|       director| \\N|          \\N|\n",
      "|tt0000008|       1|nm0653028|          actor| \\N|Sneezing Man|\n",
      "|tt0000008|       2|nm0005690|       director| \\N|          \\N|\n",
      "|tt0000008|       3|nm0374658|cinematographer| \\N|          \\N|\n",
      "+---------+--------+---------+---------------+---+------------+\n",
      "only showing top 20 rows\n",
      "\n"
     ]
    }
   ],
   "source": [
    "principals.where(principals.job == '\\\\N').show()"
   ]
  },
  {
   "cell_type": "code",
   "execution_count": 10,
   "id": "515a9179-f726-4f9b-bc2a-28c3c62e8e39",
   "metadata": {},
   "outputs": [
    {
     "name": "stdout",
     "output_type": "stream",
     "text": [
      "+---------+--------+---------+---------------+--------------------+----------+\n",
      "|   tconst|ordering|   nconst|       category|                 job|characters|\n",
      "+---------+--------+---------+---------------+--------------------+----------+\n",
      "|tt0000001|       1|nm1588970|           self|                  \\N|      Self|\n",
      "|tt0000001|       2|nm0005690|       director|                  \\N|        \\N|\n",
      "|tt0000001|       3|nm0374658|cinematographer|director of photo...|        \\N|\n",
      "|tt0000002|       1|nm0721526|       director|                  \\N|        \\N|\n",
      "|tt0000002|       2|nm1335271|       composer|                  \\N|        \\N|\n",
      "|tt0000003|       1|nm0721526|       director|                  \\N|        \\N|\n",
      "|tt0000003|       2|nm1770680|       producer|            producer|        \\N|\n",
      "|tt0000003|       3|nm1335271|       composer|                  \\N|        \\N|\n",
      "|tt0000003|       4|nm5442200|         editor|                  \\N|        \\N|\n",
      "|tt0000004|       1|nm0721526|       director|                  \\N|        \\N|\n",
      "|tt0000004|       2|nm1335271|       composer|                  \\N|        \\N|\n",
      "|tt0000005|       1|nm0443482|          actor|                  \\N|Blacksmith|\n",
      "|tt0000005|       2|nm0653042|          actor|                  \\N| Assistant|\n",
      "|tt0000005|       3|nm0005690|       director|                  \\N|        \\N|\n",
      "|tt0000005|       4|nm0249379|       producer|            producer|        \\N|\n",
      "|tt0000006|       1|nm0005690|       director|                  \\N|        \\N|\n",
      "|tt0000007|       1|nm0179163|          actor|                  \\N|        \\N|\n",
      "|tt0000007|       2|nm0183947|          actor|                  \\N|        \\N|\n",
      "|tt0000007|       3|nm0005690|       director|                  \\N|        \\N|\n",
      "|tt0000007|       4|nm0374658|       director|                  \\N|        \\N|\n",
      "+---------+--------+---------+---------------+--------------------+----------+\n",
      "only showing top 20 rows\n",
      "\n"
     ]
    }
   ],
   "source": [
    "principals.show()"
   ]
  }
 ],
 "metadata": {
  "kernelspec": {
   "display_name": "Python 3 (ipykernel)",
   "language": "python",
   "name": "python3"
  },
  "language_info": {
   "codemirror_mode": {
    "name": "ipython",
    "version": 3
   },
   "file_extension": ".py",
   "mimetype": "text/x-python",
   "name": "python",
   "nbconvert_exporter": "python",
   "pygments_lexer": "ipython3",
   "version": "3.9.7"
  }
 },
 "nbformat": 4,
 "nbformat_minor": 5
}
