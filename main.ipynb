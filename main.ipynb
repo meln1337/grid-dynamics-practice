{
 "cells": [
  {
   "cell_type": "code",
   "execution_count": 1,
   "id": "2ce56b60-2796-4311-90d8-0439fb10cf70",
   "metadata": {},
   "outputs": [],
   "source": [
    "from pyspark import SparkConf\n",
    "from pyspark.sql import SparkSession\n",
    "import pyspark.sql.types as t\n",
    "import pyspark.sql.functions as f"
   ]
  },
  {
   "cell_type": "markdown",
   "id": "261b7e8a-8bda-4c5b-8f5a-dfffce78b7dd",
   "metadata": {},
   "source": [
    "# **Table of Contents**\n",
    "\n",
    "<div class=\"alert alert-block alert-info\" style=\"margin-top: 20px\">\n",
    "\n",
    "1. [Dataset description](#1)\n",
    "2. [Configuration of Spark](#2)\n",
    "3. [Data loading](#3)\n",
    "4. [Data preprocessing](#4)\n",
    "5. [Transformation Stage](#5)\n",
    "    - [Get the general information about dataset. (Such as Schema, Columns,\n",
    "number of columns and rows etc.) Describe the dataset using this\n",
    "information](#5.1)\n",
    "    - [Get statistics about numerical columns. Describe the dataset using this\n",
    "information. How could this be useful for further analysis?](#5.2)\n",
    "    - [Come up with your own 6 or more business questions to the data](#5.3)\n",
    "    \n",
    "</div>"
   ]
  },
  {
   "cell_type": "markdown",
   "id": "537e4749-03c7-4745-af66-117a01af8e08",
   "metadata": {},
   "source": [
    "# **1. Dataset description** <a id='1'></a>"
   ]
  },
  {
   "cell_type": "markdown",
   "id": "a05f76f2-976b-4cb9-b6e9-07b9c034430a",
   "metadata": {},
   "source": [
    "<details><summary>Click here for the dataset description</summary>\n",
    "\n",
    "## **Dataset Description (IMDb dataset)**\n",
    "\n",
    "### **Files**\n",
    "* **name.basics.tsv** - \n",
    "* **title.akas.tsv** - \n",
    "* **title.basics.tsv** - \n",
    "* **title.crew.tsv** - \n",
    "* **title.episode.tsv** - \n",
    "* **title.principals.tsv** - \n",
    "* **title.ratings.tsv** - \n",
    "\n",
    "### **name.basics.tsv**\n",
    "\n",
    "|      Name         |    Type          |   Description                                     |\n",
    "| -------------     | ---------------- | ------------------------------------------------- |\n",
    "|     nconst        |   string         | alphanumeric unique identifier of the name/person |\n",
    "|   primaryName     | string           | name by which the person is most often credited   |\n",
    "|     birthYear     | in YYYY format   | birth year                                        |\n",
    "|     deathYear     | in YYYY format   | if applicable, else '\\N'                          |\n",
    "| primaryProfession | array of strings | the top-3 professions of the person               |\n",
    "|   knownForTitles  | array of tconsts | titles the person is known for                    |\n",
    "\n",
    "### **title.akas.tsv**\n",
    "\n",
    "|      Name       |    Type   |   Description    |\n",
    "| -------------   | --------- | ---------------- |\n",
    "| titleId         | string    | a tconst, an alphanumeric unique identifier of the title |\n",
    "| ordering        | integer   | a number to uniquely identify rows for a given titleId |\n",
    "| title           | string    | the localized title |\n",
    "| region          | string    | the region for this version of the title |\n",
    "| language        | string    | the language of the title |\n",
    "| types           | array     | Enumerated set of attributes for this alternative title. One or more of the following: \"alternative\", \"dvd\", \"festival\", \"tv\", \"video\", \"working\", \"original\", \"imdbDisplay\". New values may be added in the future without warning |\n",
    "| attributes      | array     | Additional terms to describe this alternative title, not enumerated |\n",
    "| isOriginalTitle | boolean   | 0: not original title; 1: original title |\n",
    "\n",
    "### **title.basics.tsv**\n",
    "\n",
    "|      Name      |    Type      |   Description   |\n",
    "| -------------  | ------------ | ----------------|\n",
    "| tconst         | string       | alphanumeric unique identifier of the title |\n",
    "| titleType      | string       | the type/format of the title (e.g. movie, short, tvseries, tvepisode, video, etc) |\n",
    "| primaryTitle   | string       | the more popular title / the title used by the filmmakers on promotional materials at the point of release |\n",
    "| originalTitle  | string       | original title, in the original language |\n",
    "| isAdult        | boolean      | 0: non-adult title; 1: adult title |\n",
    "| startYear      | YYYY         | represents the release year of a title. In the case of TV Series, it is the series start year |\n",
    "| endYear        | YYYY         | TV Series end year. ‘\\N’ for all other title types |\n",
    "| runtimeMinutes | integer      | primary runtime of the title, in minutes |\n",
    "| genres         | string array | includes up to three genres associated with the title |\n",
    "\n",
    "### **title.crew.tsv**\n",
    "\n",
    "|      Name     |    Type          |   Description                               |\n",
    "| ------------- | ---------------  | ------------------------------------------- |\n",
    "| tconst        | string           | alphanumeric unique identifier of the title |\n",
    "| directors     | array of nconsts | director(s) of the given title              |\n",
    "| writers       | array of nconsts | writer(s) of the given title                |\n",
    "\n",
    "### **title.episode.tsv**\n",
    "\n",
    "|      Name     |    Type   |   Description                                   |\n",
    "| ------------- | --------- | ----------------------------------------------- |\n",
    "| tconst        | string    | alphanumeric identifier of episode              |\n",
    "| parentTconst  | string    | alphanumeric identifier of the parent TV Series |\n",
    "| seasonNumber  | integer   | season number the episode belongs to            |\n",
    "| episodeNumber | integer   | episode number of the tconst in the TV series   |\n",
    "\n",
    "### **title.principals.tsv**\n",
    "\n",
    "|      Name     |    Type   |   Description                                             |\n",
    "| ------------- | --------- | --------------------------------------------------------- |\n",
    "| tconst        | string    | alphanumeric unique identifier of the title               |\n",
    "| ordering      | integer   | a number to uniquely identify rows for a given titleId    |\n",
    "| nconst        | string    | alphanumeric unique identifier of the name/person         |\n",
    "| category      | string    | the category of job that person was in                    |\n",
    "| job           | string    | the specific job title if applicable, else '\\N'           |\n",
    "| characters    | string    | the name of the character played if applicable, else '\\N' |\n",
    "\n",
    "### **title.ratings.tsv**\n",
    "\n",
    "|      Name     |    Type   |   Description                                        |\n",
    "| ------------- | --------- | ---------------------------------------------------- |\n",
    "| tconst        | string    | alphanumeric unique identifier of the title          |\n",
    "| averageRating | float     | weighted average of all the individual user ratings  |\n",
    "| numVotes      |  integer  | number of votes the title has received               |\n",
    "    \n",
    "</details>"
   ]
  },
  {
   "cell_type": "markdown",
   "id": "7f5490b2-1261-47c4-9a9e-bea9ea140acf",
   "metadata": {},
   "source": [
    "# **2. Configuration of Spark** <a id='2'></a>"
   ]
  },
  {
   "cell_type": "code",
   "execution_count": 2,
   "id": "00a85e23-cbcc-477f-99d2-ea1e9fb677e6",
   "metadata": {},
   "outputs": [],
   "source": [
    "path = 'C:/files/grid-dynamics'"
   ]
  },
  {
   "cell_type": "code",
   "execution_count": 3,
   "id": "1403e705-158c-460f-a962-9a264a2c746a",
   "metadata": {},
   "outputs": [],
   "source": [
    "spark_session = (\n",
    "    SparkSession.builder\n",
    "        .master('local')\n",
    "        .appName('project')\n",
    "        .config(conf=SparkConf())\n",
    "        .getOrCreate()\n",
    ")\n",
    "\n",
    "spark_session.conf.set('spark.sql.repl.eagerEval.enabled', True)"
   ]
  },
  {
   "cell_type": "markdown",
   "id": "2c1279b3-ee86-4896-ae80-e65073af44a2",
   "metadata": {},
   "source": [
    "Defining the schemas"
   ]
  },
  {
   "cell_type": "code",
   "execution_count": 4,
   "id": "9135edf5-2585-467d-b90c-5c612b70854c",
   "metadata": {},
   "outputs": [],
   "source": [
    "name_basics_schema = t.StructType([\n",
    "    t.StructField('nconst', t.StringType(), True),\n",
    "    t.StructField('primaryName', t.StringType(), True),\n",
    "    t.StructField('birthYear', t.DateType(), True),\n",
    "    t.StructField('deathYear', t.DateType(), True),\n",
    "    t.StructField('primaryProfession', t.StringType(), True),\n",
    "    t.StructField('knownForTitles', t.StringType(), True)\n",
    "])\n",
    "\n",
    "akas_schema = t.StructType([\n",
    "    t.StructField('titleId', t.StringType(), True),\n",
    "    t.StructField('ordering', t.IntegerType(), True),\n",
    "    t.StructField('title', t.StringType(), True),\n",
    "    t.StructField('region', t.StringType(), True),\n",
    "    t.StructField('language', t.StringType(), True),\n",
    "    t.StructField('types', t.StringType(), True),\n",
    "    t.StructField('attributes', t.StringType(), True),\n",
    "    t.StructField('isOriginalTitle', t.BooleanType(), True)\n",
    "])\n",
    "\n",
    "title_basics_schema = t.StructType([\n",
    "    t.StructField('tconst', t.StringType(), True),\n",
    "    t.StructField('titleType', t.StringType(), True),\n",
    "    t.StructField('primaryTitle', t.StringType(), True),\n",
    "    t.StructField('originalTitle', t.StringType(), True),\n",
    "    t.StructField('isAdult', t.BooleanType(), True),\n",
    "    t.StructField('startYear', t.DateType(), True),\n",
    "    t.StructField('endYear', t.DateType(), True),\n",
    "    t.StructField('runtimeMinutes', t.IntegerType(), True),\n",
    "    t.StructField('genres', t.StringType(), True),\n",
    "])\n",
    "\n",
    "crew_schema = t.StructType([\n",
    "    t.StructField('tconst', t.StringType(), True),\n",
    "    t.StructField('directors', t.StringType(), True),\n",
    "    t.StructField('writers', t.StringType(), True),\n",
    "])\n",
    "\n",
    "episode_schema = t.StructType([\n",
    "    t.StructField('tconst', t.StringType(), True),\n",
    "    t.StructField('parentTconst', t.StringType(), True),\n",
    "    t.StructField('seasonNumber', t.IntegerType(), True),\n",
    "    t.StructField('episodeNumber', t.IntegerType(), True),\n",
    "])\n",
    "\n",
    "principals_schema = t.StructType([\n",
    "    t.StructField('tconst', t.StringType(), True),\n",
    "    t.StructField('ordering', t.IntegerType(), True),\n",
    "    t.StructField('nconst', t.StringType(), True),\n",
    "    t.StructField('category', t.StringType(), True),\n",
    "    t.StructField('job', t.StringType(), True),\n",
    "    t.StructField('characters', t.StringType(), True)\n",
    "])\n",
    "\n",
    "ratings_schema = t.StructType([\n",
    "    t.StructField('tconst', t.StringType(), True),\n",
    "    t.StructField('averageRating', t.FloatType(), True),\n",
    "    t.StructField('numVotes', t.IntegerType(), True)\n",
    "])"
   ]
  },
  {
   "cell_type": "markdown",
   "id": "955e704c-80c9-4609-881f-86d60399d255",
   "metadata": {},
   "source": [
    "# **3. Data loading** <a id='3'></a>"
   ]
  },
  {
   "cell_type": "markdown",
   "id": "007d3bcf-6df7-4fdc-bae7-bdbb917ff42c",
   "metadata": {},
   "source": [
    "Reading the dataset"
   ]
  },
  {
   "cell_type": "code",
   "execution_count": 5,
   "id": "b974e4b3-477e-42a5-b215-21fc127a4db6",
   "metadata": {},
   "outputs": [],
   "source": [
    "name_basics = spark_session.read.csv(f'{path}/name.basics.tsv', \n",
    "                                    sep=r'\\t', \n",
    "                                    header=True,\n",
    "                                    nullValue='null',\n",
    "                                    schema=name_basics_schema,\n",
    "                                    dateFormat='yyyy')\n",
    "\n",
    "akas = spark_session.read.csv(f'{path}/title.akas.tsv', \n",
    "                                    sep=r'\\t', \n",
    "                                    header=True,\n",
    "                                    nullValue='null',\n",
    "                                    schema=akas_schema)\n",
    "\n",
    "title_basics = spark_session.read.csv(f'{path}/title.basics.tsv', \n",
    "                                    sep=r'\\t', \n",
    "                                    header=True,\n",
    "                                    nullValue='null',\n",
    "                                    schema=title_basics_schema,\n",
    "                                    dateFormat='yyyy')\n",
    "\n",
    "crew = spark_session.read.csv(f'{path}/title.crew.tsv', \n",
    "                                    sep=r'\\t', \n",
    "                                    header=True,\n",
    "                                    nullValue='null',\n",
    "                                    schema=crew_schema)\n",
    "\n",
    "episode = spark_session.read.csv(f'{path}/title.episode.tsv', \n",
    "                                    sep=r'\\t', \n",
    "                                    header=True,\n",
    "                                    nullValue='null',\n",
    "                                    schema=episode_schema)\n",
    "\n",
    "principals = spark_session.read.csv(f'{path}/title.principals.tsv', \n",
    "                                    sep=r'\\t', \n",
    "                                    header=True,\n",
    "                                    nullValue='null',\n",
    "                                    schema=principals_schema)\n",
    "\n",
    "ratings = spark_session.read.csv(f'{path}/title.ratings.tsv', \n",
    "                                    sep=r'\\t', \n",
    "                                    header=True,\n",
    "                                    nullValue='null',\n",
    "                                    schema=ratings_schema)"
   ]
  },
  {
   "cell_type": "markdown",
   "id": "d76028ea-e554-4b97-aecd-bcaaf5f868bc",
   "metadata": {},
   "source": [
    "# **4. Data preprocessing** <a id='4'></a>"
   ]
  },
  {
   "cell_type": "markdown",
   "id": "c46b604b-6223-49eb-8cfb-bc7bc3843562",
   "metadata": {},
   "source": [
    "Replacing '\\N' with null value"
   ]
  },
  {
   "cell_type": "code",
   "execution_count": 6,
   "id": "7c99d921-f9b0-407b-9b39-d1f5e3b4af55",
   "metadata": {},
   "outputs": [],
   "source": [
    "name_basics = name_basics.withColumn('primaryProfession', f.when(f.col('primaryProfession') == r'\\N', None).otherwise(f.col('primaryProfession')))\n",
    "name_basics = name_basics.withColumn('knownForTitles', f.when(f.col('knownForTitles') == r'\\N', None).otherwise(f.col('knownForTitles')))\n",
    "\n",
    "title_basics = title_basics.withColumn('genres', f.when(f.col('genres') == r'\\N', None).otherwise(f.col('genres')))\n",
    "\n",
    "crew = crew.withColumn('writers', f.when(f.col('writers') == r'\\N', None).otherwise(f.col('writers')))\n",
    "crew = crew.withColumn('directors', f.when(f.col('directors') == r'\\N', None).otherwise(f.col('directors')))\n",
    "\n",
    "principals = principals.withColumn('job', f.when(f.col('job') == r'\\N', None).otherwise(f.col('job')))\n",
    "principals = principals.withColumn('characters', f.when(f.col('characters') == r'\\N', None).otherwise(f.col('characters')))\n",
    "\n",
    "akas = akas.withColumn('region', f.when(f.col('region') == r'\\N', None).otherwise(f.col('region')))\n",
    "akas = akas.withColumn('language', f.when(f.col('language') == r'\\N', None).otherwise(f.col('language')))\n",
    "akas = akas.withColumn('types', f.when(f.col('types') == r'\\N', None).otherwise(f.col('types')))\n",
    "akas = akas.withColumn('attributes', f.when(f.col('attributes') == r'\\N', None).otherwise(f.col('attributes')))\n",
    "\n"
   ]
  },
  {
   "cell_type": "markdown",
   "id": "38b252ca-110c-4e07-a4dc-1e7e815fbce0",
   "metadata": {},
   "source": [
    "Converting strings to array of strings"
   ]
  },
  {
   "cell_type": "code",
   "execution_count": 7,
   "id": "035ebc47-fa52-4490-b8e4-a70fdfb25cb7",
   "metadata": {},
   "outputs": [],
   "source": [
    "name_basics = name_basics.withColumn('primaryProfession', f.split('primaryProfession', ','))\n",
    "name_basics = name_basics.withColumn('knownForTitles', f.split('knownForTitles', ','))\n",
    "\n",
    "title_basics = title_basics.withColumn('genres', f.split('genres', ','))\n",
    "\n",
    "crew = crew.withColumn('directors', f.split('directors', ','))\n",
    "crew = crew.withColumn('writers', f.split('writers', ','))"
   ]
  },
  {
   "cell_type": "markdown",
   "id": "78e43f6c-5bc2-437b-a3aa-7f0915e126ad",
   "metadata": {},
   "source": [
    "Removing unnecessary symbols"
   ]
  },
  {
   "cell_type": "code",
   "execution_count": 8,
   "id": "4fb17950-b8aa-4bbc-a665-8ba8c6f196ab",
   "metadata": {},
   "outputs": [],
   "source": [
    "principals = principals.withColumn('characters', f.regexp_replace('characters', r'[\\[\\]\"]', ''))"
   ]
  },
  {
   "cell_type": "markdown",
   "id": "7dd881c5-760f-4b9e-8203-3444660a7f08",
   "metadata": {},
   "source": [
    "# **5. Transformation Stage** <a id='5'></a>"
   ]
  },
  {
   "cell_type": "markdown",
   "id": "3cd57690-470f-4ca4-a037-55509c547a4a",
   "metadata": {},
   "source": [
    "## **1. Get the general information about dataset. (Such as Schema, Columns, number of columns and rows etc.) Describe the dataset using this information** <a id='5.1'></a>"
   ]
  },
  {
   "cell_type": "code",
   "execution_count": 10,
   "id": "86884e06-80f6-4c2b-b65a-32b9ce0e6e3f",
   "metadata": {},
   "outputs": [],
   "source": [
    "datasets = [(name_basics, 'name_basics'), (akas, 'akas'), (title_basics, 'title_basics'), (crew, 'crew'), \n",
    "            (episode, 'episode'), (principals, 'principals'), (ratings, 'ratings')]"
   ]
  },
  {
   "cell_type": "code",
   "execution_count": 11,
   "id": "f9ac8803-4c56-4351-ad84-3af1f3ad5fb3",
   "metadata": {},
   "outputs": [
    {
     "name": "stdout",
     "output_type": "stream",
     "text": [
      "Schemas\n",
      "\n",
      "root\n",
      " |-- nconst: string (nullable = true)\n",
      " |-- primaryName: string (nullable = true)\n",
      " |-- birthYear: date (nullable = true)\n",
      " |-- deathYear: date (nullable = true)\n",
      " |-- primaryProfession: array (nullable = true)\n",
      " |    |-- element: string (containsNull = false)\n",
      " |-- knownForTitles: array (nullable = true)\n",
      " |    |-- element: string (containsNull = false)\n",
      "\n",
      "Dataset: name_basics: None\n",
      "root\n",
      " |-- titleId: string (nullable = true)\n",
      " |-- ordering: integer (nullable = true)\n",
      " |-- title: string (nullable = true)\n",
      " |-- region: string (nullable = true)\n",
      " |-- language: string (nullable = true)\n",
      " |-- types: string (nullable = true)\n",
      " |-- attributes: string (nullable = true)\n",
      " |-- isOriginalTitle: boolean (nullable = true)\n",
      "\n",
      "Dataset: akas: None\n",
      "root\n",
      " |-- tconst: string (nullable = true)\n",
      " |-- titleType: string (nullable = true)\n",
      " |-- primaryTitle: string (nullable = true)\n",
      " |-- originalTitle: string (nullable = true)\n",
      " |-- isAdult: boolean (nullable = true)\n",
      " |-- startYear: date (nullable = true)\n",
      " |-- endYear: date (nullable = true)\n",
      " |-- runtimeMinutes: integer (nullable = true)\n",
      " |-- genres: array (nullable = true)\n",
      " |    |-- element: string (containsNull = false)\n",
      "\n",
      "Dataset: title_basics: None\n",
      "root\n",
      " |-- tconst: string (nullable = true)\n",
      " |-- directors: array (nullable = true)\n",
      " |    |-- element: string (containsNull = false)\n",
      " |-- writers: array (nullable = true)\n",
      " |    |-- element: string (containsNull = false)\n",
      "\n",
      "Dataset: crew: None\n",
      "root\n",
      " |-- tconst: string (nullable = true)\n",
      " |-- parentTconst: string (nullable = true)\n",
      " |-- seasonNumber: integer (nullable = true)\n",
      " |-- episodeNumber: integer (nullable = true)\n",
      "\n",
      "Dataset: episode: None\n",
      "root\n",
      " |-- tconst: string (nullable = true)\n",
      " |-- ordering: integer (nullable = true)\n",
      " |-- nconst: string (nullable = true)\n",
      " |-- category: string (nullable = true)\n",
      " |-- job: string (nullable = true)\n",
      " |-- characters: string (nullable = true)\n",
      "\n",
      "Dataset: principals: None\n",
      "root\n",
      " |-- tconst: string (nullable = true)\n",
      " |-- averageRating: float (nullable = true)\n",
      " |-- numVotes: integer (nullable = true)\n",
      "\n",
      "Dataset: ratings: None\n"
     ]
    }
   ],
   "source": [
    "print('Schemas\\n')\n",
    "\n",
    "for dataset, name in datasets:\n",
    "    print(f'Dataset: {name}: {dataset.printSchema()}')"
   ]
  },
  {
   "cell_type": "code",
   "execution_count": 12,
   "id": "d36f2bd8-c8dc-4bc7-8c8c-39e6d673cca1",
   "metadata": {},
   "outputs": [
    {
     "name": "stdout",
     "output_type": "stream",
     "text": [
      "Columns\n",
      "\n",
      "Dataset: name_basics: ['nconst', 'primaryName', 'birthYear', 'deathYear', 'primaryProfession', 'knownForTitles'], number of columns: 6, number of rows: 12698644\n",
      "\n",
      "Dataset: akas: ['titleId', 'ordering', 'title', 'region', 'language', 'types', 'attributes', 'isOriginalTitle'], number of columns: 8, number of rows: 36642385\n",
      "\n",
      "Dataset: title_basics: ['tconst', 'titleType', 'primaryTitle', 'originalTitle', 'isAdult', 'startYear', 'endYear', 'runtimeMinutes', 'genres'], number of columns: 9, number of rows: 10017011\n",
      "\n",
      "Dataset: crew: ['tconst', 'directors', 'writers'], number of columns: 3, number of rows: 10019208\n",
      "\n",
      "Dataset: episode: ['tconst', 'parentTconst', 'seasonNumber', 'episodeNumber'], number of columns: 4, number of rows: 7620834\n",
      "\n",
      "Dataset: principals: ['tconst', 'ordering', 'nconst', 'category', 'job', 'characters'], number of columns: 6, number of rows: 57243863\n",
      "\n",
      "Dataset: ratings: ['tconst', 'averageRating', 'numVotes'], number of columns: 3, number of rows: 1331252\n",
      "\n"
     ]
    }
   ],
   "source": [
    "print('Columns\\n')\n",
    "\n",
    "for dataset, name in datasets:\n",
    "    print(f'Dataset: {name}: {dataset.columns}, number of columns: {len(dataset.columns)}, number of rows: {dataset.count()}\\n')"
   ]
  },
  {
   "cell_type": "markdown",
   "id": "ae5e2ae2-2539-4f5d-bf40-b4bae7f1d9ee",
   "metadata": {},
   "source": [
    "## **2. Get statistics about numerical columns. Describe the dataset using this information. How could this be useful for further analysis?** <a id='5.2'></a>"
   ]
  },
  {
   "cell_type": "code",
   "execution_count": 14,
   "id": "329184ee-96d4-4319-971e-b32450308094",
   "metadata": {},
   "outputs": [
    {
     "data": {
      "text/html": [
       "<table border='1'>\n",
       "<tr><th>summary</th><th>ordering</th></tr>\n",
       "<tr><td>count</td><td>36642385</td></tr>\n",
       "<tr><td>mean</td><td>4.1506784015287215</td></tr>\n",
       "<tr><td>stddev</td><td>3.939129056143955</td></tr>\n",
       "<tr><td>min</td><td>1</td></tr>\n",
       "<tr><td>max</td><td>249</td></tr>\n",
       "</table>\n"
      ],
      "text/plain": [
       "+-------+------------------+\n",
       "|summary|          ordering|\n",
       "+-------+------------------+\n",
       "|  count|          36642385|\n",
       "|   mean|4.1506784015287215|\n",
       "| stddev| 3.939129056143955|\n",
       "|    min|                 1|\n",
       "|    max|               249|\n",
       "+-------+------------------+"
      ]
     },
     "execution_count": 14,
     "metadata": {},
     "output_type": "execute_result"
    }
   ],
   "source": [
    "akas.describe(['ordering'])"
   ]
  },
  {
   "cell_type": "code",
   "execution_count": 15,
   "id": "dd5477a5-2147-4e5c-93a4-ab38fa3a9da9",
   "metadata": {},
   "outputs": [
    {
     "data": {
      "text/html": [
       "<table border='1'>\n",
       "<tr><th>summary</th><th>runtimeMinutes</th></tr>\n",
       "<tr><td>count</td><td>2970701</td></tr>\n",
       "<tr><td>mean</td><td>43.505853332260635</td></tr>\n",
       "<tr><td>stddev</td><td>81.48975978468617</td></tr>\n",
       "<tr><td>min</td><td>0</td></tr>\n",
       "<tr><td>max</td><td>59460</td></tr>\n",
       "</table>\n"
      ],
      "text/plain": [
       "+-------+------------------+\n",
       "|summary|    runtimeMinutes|\n",
       "+-------+------------------+\n",
       "|  count|           2970701|\n",
       "|   mean|43.505853332260635|\n",
       "| stddev| 81.48975978468617|\n",
       "|    min|                 0|\n",
       "|    max|             59460|\n",
       "+-------+------------------+"
      ]
     },
     "execution_count": 15,
     "metadata": {},
     "output_type": "execute_result"
    }
   ],
   "source": [
    "title_basics.describe(['runtimeMinutes'])"
   ]
  },
  {
   "cell_type": "code",
   "execution_count": 17,
   "id": "50e71857-c9fc-4ad5-97c3-80399cee9159",
   "metadata": {},
   "outputs": [
    {
     "data": {
      "text/html": [
       "<table border='1'>\n",
       "<tr><th>summary</th><th>seasonNumber</th><th>episodeNumber</th></tr>\n",
       "<tr><td>count</td><td>6057523</td><td>6057523</td></tr>\n",
       "<tr><td>mean</td><td>3.7390189026108525</td><td>402.8005742611295</td></tr>\n",
       "<tr><td>stddev</td><td>24.441675637575482</td><td>1306.4123181308778</td></tr>\n",
       "<tr><td>min</td><td>1</td><td>0</td></tr>\n",
       "<tr><td>max</td><td>2021</td><td>97251</td></tr>\n",
       "</table>\n"
      ],
      "text/plain": [
       "+-------+------------------+------------------+\n",
       "|summary|      seasonNumber|     episodeNumber|\n",
       "+-------+------------------+------------------+\n",
       "|  count|           6057523|           6057523|\n",
       "|   mean|3.7390189026108525| 402.8005742611295|\n",
       "| stddev|24.441675637575482|1306.4123181308778|\n",
       "|    min|                 1|                 0|\n",
       "|    max|              2021|             97251|\n",
       "+-------+------------------+------------------+"
      ]
     },
     "execution_count": 17,
     "metadata": {},
     "output_type": "execute_result"
    }
   ],
   "source": [
    "episode.describe(['seasonNumber', 'episodeNumber'])"
   ]
  },
  {
   "cell_type": "code",
   "execution_count": 18,
   "id": "1117f0c9-0b6f-4be2-ae3b-37fa28481386",
   "metadata": {},
   "outputs": [
    {
     "data": {
      "text/html": [
       "<table border='1'>\n",
       "<tr><th>summary</th><th>ordering</th></tr>\n",
       "<tr><td>count</td><td>57243863</td></tr>\n",
       "<tr><td>mean</td><td>4.610154489399152</td></tr>\n",
       "<tr><td>stddev</td><td>2.7856930662973065</td></tr>\n",
       "<tr><td>min</td><td>1</td></tr>\n",
       "<tr><td>max</td><td>10</td></tr>\n",
       "</table>\n"
      ],
      "text/plain": [
       "+-------+------------------+\n",
       "|summary|          ordering|\n",
       "+-------+------------------+\n",
       "|  count|          57243863|\n",
       "|   mean| 4.610154489399152|\n",
       "| stddev|2.7856930662973065|\n",
       "|    min|                 1|\n",
       "|    max|                10|\n",
       "+-------+------------------+"
      ]
     },
     "execution_count": 18,
     "metadata": {},
     "output_type": "execute_result"
    }
   ],
   "source": [
    "principals.describe(['ordering'])"
   ]
  },
  {
   "cell_type": "code",
   "execution_count": 19,
   "id": "9bf4393d-b629-44a7-a202-912d840884f2",
   "metadata": {},
   "outputs": [
    {
     "data": {
      "text/html": [
       "<table border='1'>\n",
       "<tr><th>summary</th><th>averageRating</th><th>numVotes</th></tr>\n",
       "<tr><td>count</td><td>1331252</td><td>1331252</td></tr>\n",
       "<tr><td>mean</td><td>6.955515265382489</td><td>1038.735545937208</td></tr>\n",
       "<tr><td>stddev</td><td>1.3822064108967602</td><td>17489.990386451816</td></tr>\n",
       "<tr><td>min</td><td>1.0</td><td>5</td></tr>\n",
       "<tr><td>max</td><td>10.0</td><td>2767112</td></tr>\n",
       "</table>\n"
      ],
      "text/plain": [
       "+-------+------------------+------------------+\n",
       "|summary|     averageRating|          numVotes|\n",
       "+-------+------------------+------------------+\n",
       "|  count|           1331252|           1331252|\n",
       "|   mean| 6.955515265382489| 1038.735545937208|\n",
       "| stddev|1.3822064108967602|17489.990386451816|\n",
       "|    min|               1.0|                 5|\n",
       "|    max|              10.0|           2767112|\n",
       "+-------+------------------+------------------+"
      ]
     },
     "execution_count": 19,
     "metadata": {},
     "output_type": "execute_result"
    }
   ],
   "source": [
    "ratings.describe(['averageRating', 'numVotes'])"
   ]
  },
  {
   "cell_type": "markdown",
   "id": "e5d11087-c341-43f4-b434-19d41ecf645a",
   "metadata": {},
   "source": [
    "## **3. Come up with your own 6 or more business questions to the data** <a id='5.3'></a>"
   ]
  },
  {
   "cell_type": "code",
   "execution_count": 9,
   "id": "155f26e3-6db6-4ae3-8228-35fc57aacb8b",
   "metadata": {},
   "outputs": [
    {
     "name": "stdout",
     "output_type": "stream",
     "text": [
      "+---------+--------+--------------------+------+--------+-----------+--------------------+---------------+\n",
      "|  titleId|ordering|               title|region|language|      types|          attributes|isOriginalTitle|\n",
      "+---------+--------+--------------------+------+--------+-----------+--------------------+---------------+\n",
      "|tt0000001|       1|          Карменсіта|    UA|    null|imdbDisplay|                null|           null|\n",
      "|tt0000001|       2|          Carmencita|    DE|    null|       null|       literal title|           null|\n",
      "|tt0000001|       3|Carmencita - span...|    HU|    null|imdbDisplay|                null|           null|\n",
      "|tt0000001|       4|          Καρμενσίτα|    GR|    null|imdbDisplay|                null|           null|\n",
      "|tt0000001|       5|          Карменсита|    RU|    null|imdbDisplay|                null|           null|\n",
      "|tt0000001|       6|          Carmencita|    US|    null|imdbDisplay|                null|           null|\n",
      "|tt0000001|       7|          Carmencita|  null|    null|   original|                null|           null|\n",
      "|tt0000001|       8|      カルメンチータ|    JP|      ja|imdbDisplay|                null|           null|\n",
      "|tt0000002|       1|Le clown et ses c...|  null|    null|   original|                null|           null|\n",
      "|tt0000002|       2|Le clown et ses c...|    FR|    null|imdbDisplay|                null|           null|\n",
      "|tt0000002|       3|   A bohóc és kutyái|    HU|    null|imdbDisplay|                null|           null|\n",
      "|tt0000002|       4|Der Clown und sei...|    DE|    null|       null|       literal title|           null|\n",
      "|tt0000002|       5|Clovnul si cainii...|    RO|    null|imdbDisplay|                null|           null|\n",
      "|tt0000002|       6|  Клоун и его собаки|    RU|    null|imdbDisplay|                null|           null|\n",
      "|tt0000002|       7|The Clown and His...|    US|    null|       null|literal English t...|           null|\n",
      "|tt0000002|       8|          道化師と犬|    JP|      ja|imdbDisplay|                null|           null|\n",
      "|tt0000003|       1|    Sarmanul Pierrot|    RO|    null|imdbDisplay|                null|           null|\n",
      "|tt0000003|       2|     Szegény Pierrot|    HU|    null|imdbDisplay|                null|           null|\n",
      "|tt0000003|       3|        哀れなピエロ|    JP|      ja|imdbDisplay|                null|           null|\n",
      "|tt0000003|       4|        Бідний П'єро|    UA|    null|imdbDisplay|                null|           null|\n",
      "+---------+--------+--------------------+------+--------+-----------+--------------------+---------------+\n",
      "only showing top 20 rows\n",
      "\n"
     ]
    }
   ],
   "source": [
    "akas.show()"
   ]
  },
  {
   "cell_type": "markdown",
   "id": "9f8a6b3f-b264-44d7-8556-25b2d59d2096",
   "metadata": {},
   "source": [
    "How many ukrainian titles in akas dataframe?"
   ]
  },
  {
   "cell_type": "code",
   "execution_count": 10,
   "id": "30bd2ecc-1ece-438d-912b-9c587ec356c5",
   "metadata": {},
   "outputs": [
    {
     "data": {
      "text/plain": [
       "27365"
      ]
     },
     "execution_count": 10,
     "metadata": {},
     "output_type": "execute_result"
    }
   ],
   "source": [
    "akas.where(akas.region == 'UA').count()"
   ]
  },
  {
   "cell_type": "markdown",
   "id": "b5321682-acdd-4c12-bc42-895ae74f90bf",
   "metadata": {},
   "source": [
    "What are the 5 most common regions?"
   ]
  },
  {
   "cell_type": "code",
   "execution_count": 12,
   "id": "e179d176-aafb-4f30-a42d-29e3adfa639e",
   "metadata": {},
   "outputs": [
    {
     "name": "stdout",
     "output_type": "stream",
     "text": [
      "+------+-------+\n",
      "|region|  count|\n",
      "+------+-------+\n",
      "|    DE|4393871|\n",
      "|    FR|4389198|\n",
      "|    JP|4388493|\n",
      "|    IN|4330645|\n",
      "|    ES|4308577|\n",
      "+------+-------+\n",
      "\n"
     ]
    }
   ],
   "source": [
    "akas.groupBy('region') \\\n",
    "    .count() \\\n",
    "    .sort(f.desc('count')) \\\n",
    "    .limit(5) \\\n",
    "    .show()"
   ]
  }
 ],
 "metadata": {
  "kernelspec": {
   "display_name": "Python 3 (ipykernel)",
   "language": "python",
   "name": "python3"
  },
  "language_info": {
   "codemirror_mode": {
    "name": "ipython",
    "version": 3
   },
   "file_extension": ".py",
   "mimetype": "text/x-python",
   "name": "python",
   "nbconvert_exporter": "python",
   "pygments_lexer": "ipython3",
   "version": "3.9.7"
  }
 },
 "nbformat": 4,
 "nbformat_minor": 5
}
