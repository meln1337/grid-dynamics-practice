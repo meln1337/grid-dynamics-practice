{
 "cells": [
  {
   "cell_type": "code",
   "execution_count": 1,
   "id": "2ce56b60-2796-4311-90d8-0439fb10cf70",
   "metadata": {},
   "outputs": [],
   "source": [
    "from pyspark import SparkConf\n",
    "from pyspark.sql import SparkSession"
   ]
  },
  {
   "cell_type": "markdown",
   "id": "a05f76f2-976b-4cb9-b6e9-07b9c034430a",
   "metadata": {},
   "source": [
    "<details><summary>Click here for the dataset description</summary>\n",
    "\n",
    "## **Dataset Description (IMDb dataset)**\n",
    "\n",
    "### **Files**\n",
    "* **name.basics.tsv** - \n",
    "* **title.akas.tsv** - \n",
    "* **title.basics.tsv** - \n",
    "* **title.crew.tsv** - \n",
    "* **title.episode.tsv** - \n",
    "* **title.principals.tsv** - \n",
    "* **title.ratings.tsv** - \n",
    "\n",
    "### **name.basics.tsv**\n",
    "\n",
    "|      Name         |    Type          |   Description                                     |\n",
    "| -------------     | ---------------- | ------------------------------------------------- |\n",
    "|     nconst        |   string         | alphanumeric unique identifier of the name/person |\n",
    "|   primaryName     | string           | name by which the person is most often credited   |\n",
    "|     birthYear     | in YYYY format   | birth year                                        |\n",
    "|     deathYear     | in YYYY format   | if applicable, else '\\N'                          |\n",
    "| primaryProfession | array of strings | the top-3 professions of the person               |\n",
    "|    knownForTitles | array of tconsts | titles the person is known for                    |\n",
    "\n",
    "### **title.akas.tsv**\n",
    "\n",
    "|      Name       |    Type   |   Description    |\n",
    "| -------------   | --------- | ---------------- |\n",
    "| titleId         | string    | a tconst, an alphanumeric unique identifier of the title |\n",
    "| ordering        | integer   | a number to uniquely identify rows for a given titleId |\n",
    "| title           | string    | the localized title |\n",
    "| region          | string    | the region for this version of the title |\n",
    "| language        | string    | the language of the title |\n",
    "| types           | array     | Enumerated set of attributes for this alternative title. One or more of the following: \"alternative\", \"dvd\", \"festival\", \"tv\", \"video\", \"working\", \"original\", \"imdbDisplay\". New values may be added in the future without warning |\n",
    "| attributes      | array     | Additional terms to describe this alternative title, not enumerated |\n",
    "| isOriginalTitle | boolean   | 0: not original title; 1: original title |\n",
    "\n",
    "### **title.basics.tsv**\n",
    "\n",
    "|      Name      |    Type      |   Description   |\n",
    "| -------------  | ------------ | ----------------|\n",
    "| tconst         | string       | alphanumeric unique identifier of the title |\n",
    "| titleType      | string       | the type/format of the title (e.g. movie, short, tvseries, tvepisode, video, etc) |\n",
    "| primaryTitle   | string       | the more popular title / the title used by the filmmakers on promotional materials at the point of release |\n",
    "| originalTitle  | string       | original title, in the original language |\n",
    "| isAdult        | boolean      | 0: non-adult title; 1: adult title |\n",
    "| startYear      | YYYY         | represents the release year of a title. In the case of TV Series, it is the series start year |\n",
    "| endYear        | YYYY         | TV Series end year. ‘\\N’ for all other title types |\n",
    "| runtimeMinutes | integer      | primary runtime of the title, in minutes |\n",
    "| genres         | string array | includes up to three genres associated with the title |\n",
    "\n",
    "### **title.crew.tsv**\n",
    "\n",
    "|      Name     |    Type          |   Description                               |\n",
    "| ------------- | ---------------  | ------------------------------------------- |\n",
    "| tconst        | string           | alphanumeric unique identifier of the title |\n",
    "| directors     | array of nconsts | director(s) of the given title              |\n",
    "| writers       | array of nconsts | writer(s) of the given title                |\n",
    "\n",
    "### **title.episode.tsv**\n",
    "\n",
    "|      Name     |    Type   |   Description                                   |\n",
    "| ------------- | --------- | ----------------------------------------------- |\n",
    "| tconst        | string    | alphanumeric identifier of episode              |\n",
    "| parentTconst  | string    | alphanumeric identifier of the parent TV Series |\n",
    "| seasonNumber  | integer   | season number the episode belongs to            |\n",
    "| episodeNumber | integer   | episode number of the tconst in the TV series   |\n",
    "\n",
    "### **title.principals.tsv**\n",
    "\n",
    "|      Name     |    Type   |   Description                                             |\n",
    "| ------------- | --------- | --------------------------------------------------------- |\n",
    "| tconst        | string    | alphanumeric unique identifier of the title               |\n",
    "| ordering      | integer   | a number to uniquely identify rows for a given titleId    |\n",
    "| nconst        | string    | alphanumeric unique identifier of the name/person         |\n",
    "| category      | string    | the category of job that person was in                    |\n",
    "| job           | string    | the specific job title if applicable, else '\\N'           |\n",
    "| characters    | string    | the name of the character played if applicable, else '\\N' |\n",
    "\n",
    "### **title.ratings.tsv**\n",
    "\n",
    "|      Name     |    Type   |   Description                                        |\n",
    "| ------------- | --------- | ---------------------------------------------------- |\n",
    "| tconst        | string    | alphanumeric unique identifier of the title          |\n",
    "| averageRating | float     | weighted average of all the individual user ratings  |\n",
    "| numVotes      |integer    | number of votes the title has received               |\n",
    "    \n",
    "</details>"
   ]
  },
  {
   "cell_type": "code",
   "execution_count": 10,
   "id": "00a85e23-cbcc-477f-99d2-ea1e9fb677e6",
   "metadata": {},
   "outputs": [],
   "source": [
    "path = 'C:/files/grid-dynamics'"
   ]
  },
  {
   "cell_type": "code",
   "execution_count": 2,
   "id": "1403e705-158c-460f-a962-9a264a2c746a",
   "metadata": {},
   "outputs": [],
   "source": [
    "spark_session = (\n",
    "    SparkSession.builder\n",
    "        .master('local')\n",
    "        .appName('project')\n",
    "        .config(conf=SparkConf())\n",
    "        .getOrCreate()\n",
    ")"
   ]
  },
  {
   "cell_type": "code",
   "execution_count": 11,
   "id": "b974e4b3-477e-42a5-b215-21fc127a4db6",
   "metadata": {},
   "outputs": [],
   "source": [
    "principals = spark_session.read.csv(f'{path}/title.principals.tsv', sep=r'\\t', header=True)"
   ]
  },
  {
   "cell_type": "code",
   "execution_count": 13,
   "id": "014badc2-4a00-4cad-8b3b-84d27d4e9802",
   "metadata": {},
   "outputs": [
    {
     "name": "stdout",
     "output_type": "stream",
     "text": [
      "+---------+--------+---------+---------------+--------------------+--------------+\n",
      "|   tconst|ordering|   nconst|       category|                 job|    characters|\n",
      "+---------+--------+---------+---------------+--------------------+--------------+\n",
      "|tt0000001|       1|nm1588970|           self|                  \\N|      [\"Self\"]|\n",
      "|tt0000001|       2|nm0005690|       director|                  \\N|            \\N|\n",
      "|tt0000001|       3|nm0374658|cinematographer|director of photo...|            \\N|\n",
      "|tt0000002|       1|nm0721526|       director|                  \\N|            \\N|\n",
      "|tt0000002|       2|nm1335271|       composer|                  \\N|            \\N|\n",
      "|tt0000003|       1|nm0721526|       director|                  \\N|            \\N|\n",
      "|tt0000003|       2|nm1770680|       producer|            producer|            \\N|\n",
      "|tt0000003|       3|nm1335271|       composer|                  \\N|            \\N|\n",
      "|tt0000003|       4|nm5442200|         editor|                  \\N|            \\N|\n",
      "|tt0000004|       1|nm0721526|       director|                  \\N|            \\N|\n",
      "|tt0000004|       2|nm1335271|       composer|                  \\N|            \\N|\n",
      "|tt0000005|       1|nm0443482|          actor|                  \\N|[\"Blacksmith\"]|\n",
      "|tt0000005|       2|nm0653042|          actor|                  \\N| [\"Assistant\"]|\n",
      "|tt0000005|       3|nm0005690|       director|                  \\N|            \\N|\n",
      "|tt0000005|       4|nm0249379|       producer|            producer|            \\N|\n",
      "|tt0000006|       1|nm0005690|       director|                  \\N|            \\N|\n",
      "|tt0000007|       1|nm0179163|          actor|                  \\N|            \\N|\n",
      "|tt0000007|       2|nm0183947|          actor|                  \\N|            \\N|\n",
      "|tt0000007|       3|nm0005690|       director|                  \\N|            \\N|\n",
      "|tt0000007|       4|nm0374658|       director|                  \\N|            \\N|\n",
      "+---------+--------+---------+---------------+--------------------+--------------+\n",
      "only showing top 20 rows\n",
      "\n"
     ]
    }
   ],
   "source": [
    "principals.show()"
   ]
  }
 ],
 "metadata": {
  "kernelspec": {
   "display_name": "Python 3 (ipykernel)",
   "language": "python",
   "name": "python3"
  },
  "language_info": {
   "codemirror_mode": {
    "name": "ipython",
    "version": 3
   },
   "file_extension": ".py",
   "mimetype": "text/x-python",
   "name": "python",
   "nbconvert_exporter": "python",
   "pygments_lexer": "ipython3",
   "version": "3.9.7"
  }
 },
 "nbformat": 4,
 "nbformat_minor": 5
}
