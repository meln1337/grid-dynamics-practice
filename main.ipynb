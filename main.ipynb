{
 "cells": [
  {
   "cell_type": "code",
   "execution_count": 1,
   "id": "2ce56b60-2796-4311-90d8-0439fb10cf70",
   "metadata": {},
   "outputs": [],
   "source": [
    "import pyspark.sql.types as t\n",
    "import pyspark.sql.functions as f\n",
    "from pyspark import SparkConf\n",
    "from pyspark.sql import SparkSession, Window"
   ]
  },
  {
   "cell_type": "markdown",
   "id": "261b7e8a-8bda-4c5b-8f5a-dfffce78b7dd",
   "metadata": {},
   "source": [
    "# **Table of Contents**\n",
    "\n",
    "<div class=\"alert alert-block alert-info\" style=\"margin-top: 20px\">\n",
    "\n",
    "1. [Dataset description](#1)\n",
    "2. [Configuration of Spark](#2)\n",
    "3. [Data loading](#3)\n",
    "4. [Data preprocessing](#4)\n",
    "5. [Transformation Stage](#5)\n",
    "    - [Get the general information about dataset. (Such as Schema, Columns,\n",
    "number of columns and rows etc.) Describe the dataset using this\n",
    "information](#5.1)\n",
    "    - [Get statistics about numerical columns. Describe the dataset using this\n",
    "information. How could this be useful for further analysis?](#5.2)\n",
    "    - [Come up with your own 6 or more business questions to the data](#5.3)\n",
    "        - [How many ukrainian titles in akas dataframe?](#5.3.1)\n",
    "        - [Get only those titles which contain 'Short' as genre](#5.3.2)\n",
    "        - [Which Documentary title has the most numVotes?](#5.3.3)\n",
    "        - [Which region is the most common?](#5.3.4)\n",
    "        - [Get title with the highest average rating](#5.3.5)\n",
    "        - [Get title with the highest number of episodes](#5.3.6)\n",
    "        - [Get title of the top 1 TV Series based on the average user ratings and the number of votes they received?](#5.3.7)\n",
    "        - [Get title of the top 1 TV Series with the most extended runtime per episode?](#5.3.8)\n",
    "    \n",
    "</div>"
   ]
  },
  {
   "cell_type": "markdown",
   "id": "537e4749-03c7-4745-af66-117a01af8e08",
   "metadata": {},
   "source": [
    "# **1. Dataset description** <a id='1'></a>"
   ]
  },
  {
   "cell_type": "markdown",
   "id": "a05f76f2-976b-4cb9-b6e9-07b9c034430a",
   "metadata": {},
   "source": [
    "## **Dataset Description (IMDb dataset)**\n",
    "\n",
    "Each dataset is contained in a gzipped, tab-separated-values (TSV) formatted file in the UTF-8 character set. The first line in each file contains headers that describe what is in each column. A ‘\\N’ is used to denote that a particular field is missing or null for that title/name\n",
    "\n",
    "### **Files**\n",
    "* **name.basics.tsv** - \n",
    "* **title.akas.tsv** - \n",
    "* **title.basics.tsv** - \n",
    "* **title.crew.tsv** - \n",
    "* **title.episode.tsv** - \n",
    "* **title.principals.tsv** - \n",
    "* **title.ratings.tsv** - \n",
    "\n",
    "### **name.basics.tsv**\n",
    "\n",
    "|      Name         |    Type          |   Description                                     |\n",
    "| -------------     | ---------------- | ------------------------------------------------- |\n",
    "|     nconst        |   string         | alphanumeric unique identifier of the name/person |\n",
    "|   primaryName     | string           | name by which the person is most often credited   |\n",
    "|     birthYear     | in YYYY format   | birth year                                        |\n",
    "|     deathYear     | in YYYY format   | if applicable, else '\\N'                          |\n",
    "| primaryProfession | array of strings | the top-3 professions of the person               |\n",
    "|   knownForTitles  | array of tconsts | titles the person is known for                    |\n",
    "\n",
    "### **title.akas.tsv**\n",
    "\n",
    "|      Name       |    Type   |   Description    |\n",
    "| -------------   | --------- | ---------------- |\n",
    "| titleId         | string    | a tconst, an alphanumeric unique identifier of the title |\n",
    "| ordering        | integer   | a number to uniquely identify rows for a given titleId |\n",
    "| title           | string    | the localized title |\n",
    "| region          | string    | the region for this version of the title |\n",
    "| language        | string    | the language of the title |\n",
    "| types           | array     | Enumerated set of attributes for this alternative title. One or more of the following: \"alternative\", \"dvd\", \"festival\", \"tv\", \"video\", \"working\", \"original\", \"imdbDisplay\". New values may be added in the future without warning |\n",
    "| attributes      | array     | Additional terms to describe this alternative title, not enumerated |\n",
    "| isOriginalTitle | boolean   | 0: not original title; 1: original title |\n",
    "\n",
    "### **title.basics.tsv**\n",
    "\n",
    "|      Name      |    Type      |   Description   |\n",
    "| -------------  | ------------ | ----------------|\n",
    "| tconst         | string       | alphanumeric unique identifier of the title |\n",
    "| titleType      | string       | the type/format of the title (e.g. movie, short, tvseries, tvepisode, video, etc) |\n",
    "| primaryTitle   | string       | the more popular title / the title used by the filmmakers on promotional materials at the point of release |\n",
    "| originalTitle  | string       | original title, in the original language |\n",
    "| isAdult        | boolean      | 0: non-adult title; 1: adult title |\n",
    "| startYear      | YYYY         | represents the release year of a title. In the case of TV Series, it is the series start year |\n",
    "| endYear        | YYYY         | TV Series end year. ‘\\N’ for all other title types |\n",
    "| runtimeMinutes | integer      | primary runtime of the title, in minutes |\n",
    "| genres         | string array | includes up to three genres associated with the title |\n",
    "\n",
    "### **title.crew.tsv**\n",
    "\n",
    "|      Name     |    Type          |   Description                               |\n",
    "| ------------- | ---------------  | ------------------------------------------- |\n",
    "| tconst        | string           | alphanumeric unique identifier of the title |\n",
    "| directors     | array of nconsts | director(s) of the given title              |\n",
    "| writers       | array of nconsts | writer(s) of the given title                |\n",
    "\n",
    "### **title.episode.tsv**\n",
    "\n",
    "|      Name     |    Type   |   Description                                   |\n",
    "| ------------- | --------- | ----------------------------------------------- |\n",
    "| tconst        | string    | alphanumeric identifier of episode              |\n",
    "| parentTconst  | string    | alphanumeric identifier of the parent TV Series |\n",
    "| seasonNumber  | integer   | season number the episode belongs to            |\n",
    "| episodeNumber | integer   | episode number of the tconst in the TV series   |\n",
    "\n",
    "### **title.principals.tsv**\n",
    "\n",
    "|      Name     |    Type   |   Description                                             |\n",
    "| ------------- | --------- | --------------------------------------------------------- |\n",
    "| tconst        | string    | alphanumeric unique identifier of the title               |\n",
    "| ordering      | integer   | a number to uniquely identify rows for a given titleId    |\n",
    "| nconst        | string    | alphanumeric unique identifier of the name/person         |\n",
    "| category      | string    | the category of job that person was in                    |\n",
    "| job           | string    | the specific job title if applicable, else '\\N'           |\n",
    "| characters    | string    | the name of the character played if applicable, else '\\N' |\n",
    "\n",
    "### **title.ratings.tsv**\n",
    "\n",
    "|      Name     |    Type   |   Description                                        |\n",
    "| ------------- | --------- | ---------------------------------------------------- |\n",
    "| tconst        | string    | alphanumeric unique identifier of the title          |\n",
    "| averageRating | float     | weighted average of all the individual user ratings  |\n",
    "| numVotes      |  integer  | number of votes the title has received               |\n"
   ]
  },
  {
   "cell_type": "markdown",
   "id": "7f5490b2-1261-47c4-9a9e-bea9ea140acf",
   "metadata": {},
   "source": [
    "# **2. Configuration of Spark** <a id='2'></a>"
   ]
  },
  {
   "cell_type": "code",
   "execution_count": 2,
   "id": "00a85e23-cbcc-477f-99d2-ea1e9fb677e6",
   "metadata": {},
   "outputs": [],
   "source": [
    "path = 'C:/files/grid-dynamics'"
   ]
  },
  {
   "cell_type": "code",
   "execution_count": 3,
   "id": "1403e705-158c-460f-a962-9a264a2c746a",
   "metadata": {},
   "outputs": [],
   "source": [
    "spark_session = (\n",
    "    SparkSession.builder\n",
    "        .master('local')\n",
    "        .appName('project')\n",
    "        .config(conf=SparkConf())\n",
    "        .getOrCreate()\n",
    ")\n",
    "\n",
    "spark_session.conf.set('spark.sql.repl.eagerEval.enabled', True)"
   ]
  },
  {
   "cell_type": "markdown",
   "id": "2c1279b3-ee86-4896-ae80-e65073af44a2",
   "metadata": {},
   "source": [
    "Defining the schemas"
   ]
  },
  {
   "cell_type": "code",
   "execution_count": 4,
   "id": "9135edf5-2585-467d-b90c-5c612b70854c",
   "metadata": {},
   "outputs": [],
   "source": [
    "name_basics_schema = t.StructType([\n",
    "    t.StructField('nconst', t.StringType(), True),\n",
    "    t.StructField('primaryName', t.StringType(), True),\n",
    "    t.StructField('birthYear', t.DateType(), True),\n",
    "    t.StructField('deathYear', t.DateType(), True),\n",
    "    t.StructField('primaryProfession', t.StringType(), True),\n",
    "    t.StructField('knownForTitles', t.StringType(), True)\n",
    "])\n",
    "\n",
    "akas_schema = t.StructType([\n",
    "    t.StructField('titleId', t.StringType(), True),\n",
    "    t.StructField('ordering', t.IntegerType(), True),\n",
    "    t.StructField('title', t.StringType(), True),\n",
    "    t.StructField('region', t.StringType(), True),\n",
    "    t.StructField('language', t.StringType(), True),\n",
    "    t.StructField('types', t.StringType(), True),\n",
    "    t.StructField('attributes', t.StringType(), True),\n",
    "    t.StructField('isOriginalTitle', t.BooleanType(), True)\n",
    "])\n",
    "\n",
    "title_basics_schema = t.StructType([\n",
    "    t.StructField('tconst', t.StringType(), True),\n",
    "    t.StructField('titleType', t.StringType(), True),\n",
    "    t.StructField('primaryTitle', t.StringType(), True),\n",
    "    t.StructField('originalTitle', t.StringType(), True),\n",
    "    t.StructField('isAdult', t.BooleanType(), True),\n",
    "    t.StructField('startYear', t.DateType(), True),\n",
    "    t.StructField('endYear', t.DateType(), True),\n",
    "    t.StructField('runtimeMinutes', t.IntegerType(), True),\n",
    "    t.StructField('genres', t.StringType(), True),\n",
    "])\n",
    "\n",
    "crew_schema = t.StructType([\n",
    "    t.StructField('tconst', t.StringType(), True),\n",
    "    t.StructField('directors', t.StringType(), True),\n",
    "    t.StructField('writers', t.StringType(), True),\n",
    "])\n",
    "\n",
    "episode_schema = t.StructType([\n",
    "    t.StructField('tconst', t.StringType(), True),\n",
    "    t.StructField('parentTconst', t.StringType(), True),\n",
    "    t.StructField('seasonNumber', t.IntegerType(), True),\n",
    "    t.StructField('episodeNumber', t.IntegerType(), True),\n",
    "])\n",
    "\n",
    "principals_schema = t.StructType([\n",
    "    t.StructField('tconst', t.StringType(), True),\n",
    "    t.StructField('ordering', t.IntegerType(), True),\n",
    "    t.StructField('nconst', t.StringType(), True),\n",
    "    t.StructField('category', t.StringType(), True),\n",
    "    t.StructField('job', t.StringType(), True),\n",
    "    t.StructField('characters', t.StringType(), True)\n",
    "])\n",
    "\n",
    "ratings_schema = t.StructType([\n",
    "    t.StructField('tconst', t.StringType(), True),\n",
    "    t.StructField('averageRating', t.FloatType(), True),\n",
    "    t.StructField('numVotes', t.IntegerType(), True)\n",
    "])"
   ]
  },
  {
   "cell_type": "markdown",
   "id": "955e704c-80c9-4609-881f-86d60399d255",
   "metadata": {},
   "source": [
    "# **3. Data loading** <a id='3'></a>"
   ]
  },
  {
   "cell_type": "markdown",
   "id": "007d3bcf-6df7-4fdc-bae7-bdbb917ff42c",
   "metadata": {},
   "source": [
    "Reading the dataset"
   ]
  },
  {
   "cell_type": "code",
   "execution_count": 5,
   "id": "b974e4b3-477e-42a5-b215-21fc127a4db6",
   "metadata": {},
   "outputs": [],
   "source": [
    "name_basics = spark_session.read.csv(f'{path}/name.basics.tsv', \n",
    "                                    sep=r'\\t', \n",
    "                                    header=True,\n",
    "                                    nullValue='null',\n",
    "                                    schema=name_basics_schema,\n",
    "                                    dateFormat='yyyy')\n",
    "\n",
    "akas = spark_session.read.csv(f'{path}/title.akas.tsv', \n",
    "                                    sep=r'\\t', \n",
    "                                    header=True,\n",
    "                                    nullValue='null',\n",
    "                                    schema=akas_schema)\n",
    "\n",
    "title_basics = spark_session.read.csv(f'{path}/title.basics.tsv', \n",
    "                                    sep=r'\\t', \n",
    "                                    header=True,\n",
    "                                    nullValue='null',\n",
    "                                    schema=title_basics_schema,\n",
    "                                    dateFormat='yyyy')\n",
    "\n",
    "crew = spark_session.read.csv(f'{path}/title.crew.tsv', \n",
    "                                    sep=r'\\t', \n",
    "                                    header=True,\n",
    "                                    nullValue='null',\n",
    "                                    schema=crew_schema)\n",
    "\n",
    "episode = spark_session.read.csv(f'{path}/title.episode.tsv', \n",
    "                                    sep=r'\\t', \n",
    "                                    header=True,\n",
    "                                    nullValue='null',\n",
    "                                    schema=episode_schema)\n",
    "\n",
    "principals = spark_session.read.csv(f'{path}/title.principals.tsv', \n",
    "                                    sep=r'\\t', \n",
    "                                    header=True,\n",
    "                                    nullValue='null',\n",
    "                                    schema=principals_schema)\n",
    "\n",
    "ratings = spark_session.read.csv(f'{path}/title.ratings.tsv', \n",
    "                                    sep=r'\\t', \n",
    "                                    header=True,\n",
    "                                    nullValue='null',\n",
    "                                    schema=ratings_schema)"
   ]
  },
  {
   "cell_type": "markdown",
   "id": "d76028ea-e554-4b97-aecd-bcaaf5f868bc",
   "metadata": {},
   "source": [
    "# **4. Data preprocessing** <a id='4'></a>"
   ]
  },
  {
   "cell_type": "markdown",
   "id": "c46b604b-6223-49eb-8cfb-bc7bc3843562",
   "metadata": {},
   "source": [
    "Replacing '\\N' with null value"
   ]
  },
  {
   "cell_type": "code",
   "execution_count": 6,
   "id": "7c99d921-f9b0-407b-9b39-d1f5e3b4af55",
   "metadata": {},
   "outputs": [],
   "source": [
    "name_basics = name_basics.withColumn('primaryProfession', f.when(f.col('primaryProfession') == r'\\N', None).otherwise(f.col('primaryProfession')))\n",
    "name_basics = name_basics.withColumn('knownForTitles', f.when(f.col('knownForTitles') == r'\\N', None).otherwise(f.col('knownForTitles')))\n",
    "\n",
    "title_basics = title_basics.withColumn('genres', f.when(f.col('genres') == r'\\N', None).otherwise(f.col('genres')))\n",
    "\n",
    "crew = crew.withColumn('writers', f.when(f.col('writers') == r'\\N', None).otherwise(f.col('writers')))\n",
    "crew = crew.withColumn('directors', f.when(f.col('directors') == r'\\N', None).otherwise(f.col('directors')))\n",
    "\n",
    "principals = principals.withColumn('job', f.when(f.col('job') == r'\\N', None).otherwise(f.col('job')))\n",
    "principals = principals.withColumn('characters', f.when(f.col('characters') == r'\\N', None).otherwise(f.col('characters')))\n",
    "\n",
    "akas = akas.withColumn('region', f.when(f.col('region') == r'\\N', None).otherwise(f.col('region')))\n",
    "akas = akas.withColumn('language', f.when(f.col('language') == r'\\N', None).otherwise(f.col('language')))\n",
    "akas = akas.withColumn('types', f.when(f.col('types') == r'\\N', None).otherwise(f.col('types')))\n",
    "akas = akas.withColumn('attributes', f.when(f.col('attributes') == r'\\N', None).otherwise(f.col('attributes')))\n",
    "\n"
   ]
  },
  {
   "cell_type": "markdown",
   "id": "38b252ca-110c-4e07-a4dc-1e7e815fbce0",
   "metadata": {},
   "source": [
    "Converting strings to array of strings"
   ]
  },
  {
   "cell_type": "code",
   "execution_count": 7,
   "id": "035ebc47-fa52-4490-b8e4-a70fdfb25cb7",
   "metadata": {},
   "outputs": [],
   "source": [
    "name_basics = name_basics.withColumn('primaryProfession', f.split('primaryProfession', ','))\n",
    "name_basics = name_basics.withColumn('knownForTitles', f.split('knownForTitles', ','))\n",
    "\n",
    "title_basics = title_basics.withColumn('genres', f.split('genres', ','))\n",
    "\n",
    "crew = crew.withColumn('directors', f.split('directors', ','))\n",
    "crew = crew.withColumn('writers', f.split('writers', ','))"
   ]
  },
  {
   "cell_type": "markdown",
   "id": "78e43f6c-5bc2-437b-a3aa-7f0915e126ad",
   "metadata": {},
   "source": [
    "Removing unnecessary symbols"
   ]
  },
  {
   "cell_type": "code",
   "execution_count": 8,
   "id": "4fb17950-b8aa-4bbc-a665-8ba8c6f196ab",
   "metadata": {},
   "outputs": [],
   "source": [
    "principals = principals.withColumn('characters', f.regexp_replace('characters', r'[\\[\\]\"]', ''))"
   ]
  },
  {
   "cell_type": "markdown",
   "id": "7dd881c5-760f-4b9e-8203-3444660a7f08",
   "metadata": {},
   "source": [
    "# **5. Transformation Stage** <a id='5'></a>"
   ]
  },
  {
   "cell_type": "markdown",
   "id": "3cd57690-470f-4ca4-a037-55509c547a4a",
   "metadata": {},
   "source": [
    "## **1. Get the general information about dataset. (Such as Schema, Columns, number of columns and rows etc.) Describe the dataset using this information** <a id='5.1'></a>"
   ]
  },
  {
   "cell_type": "code",
   "execution_count": 9,
   "id": "86884e06-80f6-4c2b-b65a-32b9ce0e6e3f",
   "metadata": {},
   "outputs": [],
   "source": [
    "datasets = [(name_basics, 'name_basics'), (akas, 'akas'), (title_basics, 'title_basics'), (crew, 'crew'), \n",
    "            (episode, 'episode'), (principals, 'principals'), (ratings, 'ratings')]"
   ]
  },
  {
   "cell_type": "code",
   "execution_count": 10,
   "id": "f9ac8803-4c56-4351-ad84-3af1f3ad5fb3",
   "metadata": {},
   "outputs": [
    {
     "name": "stdout",
     "output_type": "stream",
     "text": [
      "Schemas\n",
      "\n",
      "Dataset: name_basics\n",
      "root\n",
      " |-- nconst: string (nullable = true)\n",
      " |-- primaryName: string (nullable = true)\n",
      " |-- birthYear: date (nullable = true)\n",
      " |-- deathYear: date (nullable = true)\n",
      " |-- primaryProfession: array (nullable = true)\n",
      " |    |-- element: string (containsNull = false)\n",
      " |-- knownForTitles: array (nullable = true)\n",
      " |    |-- element: string (containsNull = false)\n",
      "\n",
      "None\n",
      "Dataset: akas\n",
      "root\n",
      " |-- titleId: string (nullable = true)\n",
      " |-- ordering: integer (nullable = true)\n",
      " |-- title: string (nullable = true)\n",
      " |-- region: string (nullable = true)\n",
      " |-- language: string (nullable = true)\n",
      " |-- types: string (nullable = true)\n",
      " |-- attributes: string (nullable = true)\n",
      " |-- isOriginalTitle: boolean (nullable = true)\n",
      "\n",
      "None\n",
      "Dataset: title_basics\n",
      "root\n",
      " |-- tconst: string (nullable = true)\n",
      " |-- titleType: string (nullable = true)\n",
      " |-- primaryTitle: string (nullable = true)\n",
      " |-- originalTitle: string (nullable = true)\n",
      " |-- isAdult: boolean (nullable = true)\n",
      " |-- startYear: date (nullable = true)\n",
      " |-- endYear: date (nullable = true)\n",
      " |-- runtimeMinutes: integer (nullable = true)\n",
      " |-- genres: array (nullable = true)\n",
      " |    |-- element: string (containsNull = false)\n",
      "\n",
      "None\n",
      "Dataset: crew\n",
      "root\n",
      " |-- tconst: string (nullable = true)\n",
      " |-- directors: array (nullable = true)\n",
      " |    |-- element: string (containsNull = false)\n",
      " |-- writers: array (nullable = true)\n",
      " |    |-- element: string (containsNull = false)\n",
      "\n",
      "None\n",
      "Dataset: episode\n",
      "root\n",
      " |-- tconst: string (nullable = true)\n",
      " |-- parentTconst: string (nullable = true)\n",
      " |-- seasonNumber: integer (nullable = true)\n",
      " |-- episodeNumber: integer (nullable = true)\n",
      "\n",
      "None\n",
      "Dataset: principals\n",
      "root\n",
      " |-- tconst: string (nullable = true)\n",
      " |-- ordering: integer (nullable = true)\n",
      " |-- nconst: string (nullable = true)\n",
      " |-- category: string (nullable = true)\n",
      " |-- job: string (nullable = true)\n",
      " |-- characters: string (nullable = true)\n",
      "\n",
      "None\n",
      "Dataset: ratings\n",
      "root\n",
      " |-- tconst: string (nullable = true)\n",
      " |-- averageRating: float (nullable = true)\n",
      " |-- numVotes: integer (nullable = true)\n",
      "\n",
      "None\n"
     ]
    }
   ],
   "source": [
    "print('Schemas\\n')\n",
    "\n",
    "for dataset, name in datasets:\n",
    "    print(f'Dataset: {name}')\n",
    "    print(dataset.printSchema())"
   ]
  },
  {
   "cell_type": "code",
   "execution_count": 11,
   "id": "d36f2bd8-c8dc-4bc7-8c8c-39e6d673cca1",
   "metadata": {},
   "outputs": [
    {
     "name": "stdout",
     "output_type": "stream",
     "text": [
      "Columns\n",
      "\n",
      "Dataset: name_basics: ['nconst', 'primaryName', 'birthYear', 'deathYear', 'primaryProfession', 'knownForTitles'], number of columns: 6, number of rows: 12698644\n",
      "\n",
      "Dataset: akas: ['titleId', 'ordering', 'title', 'region', 'language', 'types', 'attributes', 'isOriginalTitle'], number of columns: 8, number of rows: 36642385\n",
      "\n",
      "Dataset: title_basics: ['tconst', 'titleType', 'primaryTitle', 'originalTitle', 'isAdult', 'startYear', 'endYear', 'runtimeMinutes', 'genres'], number of columns: 9, number of rows: 10017011\n",
      "\n",
      "Dataset: crew: ['tconst', 'directors', 'writers'], number of columns: 3, number of rows: 10019208\n",
      "\n",
      "Dataset: episode: ['tconst', 'parentTconst', 'seasonNumber', 'episodeNumber'], number of columns: 4, number of rows: 7620834\n",
      "\n",
      "Dataset: principals: ['tconst', 'ordering', 'nconst', 'category', 'job', 'characters'], number of columns: 6, number of rows: 57243863\n",
      "\n",
      "Dataset: ratings: ['tconst', 'averageRating', 'numVotes'], number of columns: 3, number of rows: 1331252\n",
      "\n"
     ]
    }
   ],
   "source": [
    "print('Columns\\n')\n",
    "\n",
    "for dataset, name in datasets:\n",
    "    print(f'Dataset: {name}: {dataset.columns}, number of columns: {len(dataset.columns)}, number of rows: {dataset.count()}\\n')"
   ]
  },
  {
   "cell_type": "markdown",
   "id": "ae5e2ae2-2539-4f5d-bf40-b4bae7f1d9ee",
   "metadata": {},
   "source": [
    "## **2. Get statistics about numerical columns. Describe the dataset using this information. How could this be useful for further analysis?** <a id='5.2'></a>"
   ]
  },
  {
   "cell_type": "code",
   "execution_count": 12,
   "id": "329184ee-96d4-4319-971e-b32450308094",
   "metadata": {},
   "outputs": [
    {
     "data": {
      "text/html": [
       "<table border='1'>\n",
       "<tr><th>summary</th><th>ordering</th></tr>\n",
       "<tr><td>count</td><td>36642385</td></tr>\n",
       "<tr><td>mean</td><td>4.1506784015287215</td></tr>\n",
       "<tr><td>stddev</td><td>3.939129056143955</td></tr>\n",
       "<tr><td>min</td><td>1</td></tr>\n",
       "<tr><td>max</td><td>249</td></tr>\n",
       "</table>\n"
      ],
      "text/plain": [
       "+-------+------------------+\n",
       "|summary|          ordering|\n",
       "+-------+------------------+\n",
       "|  count|          36642385|\n",
       "|   mean|4.1506784015287215|\n",
       "| stddev| 3.939129056143955|\n",
       "|    min|                 1|\n",
       "|    max|               249|\n",
       "+-------+------------------+"
      ]
     },
     "execution_count": 12,
     "metadata": {},
     "output_type": "execute_result"
    }
   ],
   "source": [
    "akas.describe(['ordering'])"
   ]
  },
  {
   "cell_type": "code",
   "execution_count": 13,
   "id": "dd5477a5-2147-4e5c-93a4-ab38fa3a9da9",
   "metadata": {},
   "outputs": [
    {
     "data": {
      "text/html": [
       "<table border='1'>\n",
       "<tr><th>summary</th><th>runtimeMinutes</th></tr>\n",
       "<tr><td>count</td><td>2970701</td></tr>\n",
       "<tr><td>mean</td><td>43.505853332260635</td></tr>\n",
       "<tr><td>stddev</td><td>81.48975978468617</td></tr>\n",
       "<tr><td>min</td><td>0</td></tr>\n",
       "<tr><td>max</td><td>59460</td></tr>\n",
       "</table>\n"
      ],
      "text/plain": [
       "+-------+------------------+\n",
       "|summary|    runtimeMinutes|\n",
       "+-------+------------------+\n",
       "|  count|           2970701|\n",
       "|   mean|43.505853332260635|\n",
       "| stddev| 81.48975978468617|\n",
       "|    min|                 0|\n",
       "|    max|             59460|\n",
       "+-------+------------------+"
      ]
     },
     "execution_count": 13,
     "metadata": {},
     "output_type": "execute_result"
    }
   ],
   "source": [
    "title_basics.describe(['runtimeMinutes'])"
   ]
  },
  {
   "cell_type": "code",
   "execution_count": 14,
   "id": "50e71857-c9fc-4ad5-97c3-80399cee9159",
   "metadata": {},
   "outputs": [
    {
     "data": {
      "text/html": [
       "<table border='1'>\n",
       "<tr><th>summary</th><th>seasonNumber</th><th>episodeNumber</th></tr>\n",
       "<tr><td>count</td><td>6057523</td><td>6057523</td></tr>\n",
       "<tr><td>mean</td><td>3.7390189026108525</td><td>402.8005742611295</td></tr>\n",
       "<tr><td>stddev</td><td>24.441675637575482</td><td>1306.4123181308778</td></tr>\n",
       "<tr><td>min</td><td>1</td><td>0</td></tr>\n",
       "<tr><td>max</td><td>2021</td><td>97251</td></tr>\n",
       "</table>\n"
      ],
      "text/plain": [
       "+-------+------------------+------------------+\n",
       "|summary|      seasonNumber|     episodeNumber|\n",
       "+-------+------------------+------------------+\n",
       "|  count|           6057523|           6057523|\n",
       "|   mean|3.7390189026108525| 402.8005742611295|\n",
       "| stddev|24.441675637575482|1306.4123181308778|\n",
       "|    min|                 1|                 0|\n",
       "|    max|              2021|             97251|\n",
       "+-------+------------------+------------------+"
      ]
     },
     "execution_count": 14,
     "metadata": {},
     "output_type": "execute_result"
    }
   ],
   "source": [
    "episode.describe(['seasonNumber', 'episodeNumber'])"
   ]
  },
  {
   "cell_type": "code",
   "execution_count": 15,
   "id": "1117f0c9-0b6f-4be2-ae3b-37fa28481386",
   "metadata": {},
   "outputs": [
    {
     "data": {
      "text/html": [
       "<table border='1'>\n",
       "<tr><th>summary</th><th>ordering</th></tr>\n",
       "<tr><td>count</td><td>57243863</td></tr>\n",
       "<tr><td>mean</td><td>4.610154489399152</td></tr>\n",
       "<tr><td>stddev</td><td>2.7856930662973065</td></tr>\n",
       "<tr><td>min</td><td>1</td></tr>\n",
       "<tr><td>max</td><td>10</td></tr>\n",
       "</table>\n"
      ],
      "text/plain": [
       "+-------+------------------+\n",
       "|summary|          ordering|\n",
       "+-------+------------------+\n",
       "|  count|          57243863|\n",
       "|   mean| 4.610154489399152|\n",
       "| stddev|2.7856930662973065|\n",
       "|    min|                 1|\n",
       "|    max|                10|\n",
       "+-------+------------------+"
      ]
     },
     "execution_count": 15,
     "metadata": {},
     "output_type": "execute_result"
    }
   ],
   "source": [
    "principals.describe(['ordering'])"
   ]
  },
  {
   "cell_type": "code",
   "execution_count": 16,
   "id": "9bf4393d-b629-44a7-a202-912d840884f2",
   "metadata": {},
   "outputs": [
    {
     "data": {
      "text/html": [
       "<table border='1'>\n",
       "<tr><th>summary</th><th>averageRating</th><th>numVotes</th></tr>\n",
       "<tr><td>count</td><td>1331252</td><td>1331252</td></tr>\n",
       "<tr><td>mean</td><td>6.955515265382489</td><td>1038.735545937208</td></tr>\n",
       "<tr><td>stddev</td><td>1.3822064108967602</td><td>17489.990386451816</td></tr>\n",
       "<tr><td>min</td><td>1.0</td><td>5</td></tr>\n",
       "<tr><td>max</td><td>10.0</td><td>2767112</td></tr>\n",
       "</table>\n"
      ],
      "text/plain": [
       "+-------+------------------+------------------+\n",
       "|summary|     averageRating|          numVotes|\n",
       "+-------+------------------+------------------+\n",
       "|  count|           1331252|           1331252|\n",
       "|   mean| 6.955515265382489| 1038.735545937208|\n",
       "| stddev|1.3822064108967602|17489.990386451816|\n",
       "|    min|               1.0|                 5|\n",
       "|    max|              10.0|           2767112|\n",
       "+-------+------------------+------------------+"
      ]
     },
     "execution_count": 16,
     "metadata": {},
     "output_type": "execute_result"
    }
   ],
   "source": [
    "ratings.describe(['averageRating', 'numVotes'])"
   ]
  },
  {
   "cell_type": "markdown",
   "id": "e5d11087-c341-43f4-b434-19d41ecf645a",
   "metadata": {},
   "source": [
    "## **3. Come up with your own 6 or more business questions to the data** <a id='5.3'></a>"
   ]
  },
  {
   "cell_type": "code",
   "execution_count": 17,
   "id": "583ef4d3-fb20-41cf-801d-7f820f50a03a",
   "metadata": {},
   "outputs": [
    {
     "name": "stdout",
     "output_type": "stream",
     "text": [
      "Dataset: name_basics\n",
      "+---------+-------------------+----------+----------+--------------------+--------------------+\n",
      "|   nconst|        primaryName| birthYear| deathYear|   primaryProfession|      knownForTitles|\n",
      "+---------+-------------------+----------+----------+--------------------+--------------------+\n",
      "|nm0000001|       Fred Astaire|1899-01-01|1987-01-01|[soundtrack, acto...|[tt0053137, tt007...|\n",
      "|nm0000002|      Lauren Bacall|1924-01-01|2014-01-01|[actress, soundtr...|[tt0117057, tt007...|\n",
      "|nm0000003|    Brigitte Bardot|1934-01-01|      null|[actress, soundtr...|[tt0054452, tt004...|\n",
      "|nm0000004|       John Belushi|1949-01-01|1982-01-01|[actor, soundtrac...|[tt0078723, tt008...|\n",
      "|nm0000005|     Ingmar Bergman|1918-01-01|2007-01-01|[writer, director...|[tt0069467, tt005...|\n",
      "|nm0000006|     Ingrid Bergman|1915-01-01|1982-01-01|[actress, soundtr...|[tt0034583, tt003...|\n",
      "|nm0000007|    Humphrey Bogart|1899-01-01|1957-01-01|[actor, soundtrac...|[tt0037382, tt004...|\n",
      "|nm0000008|      Marlon Brando|1924-01-01|2004-01-01|[actor, soundtrac...|[tt0078788, tt007...|\n",
      "|nm0000009|     Richard Burton|1925-01-01|1984-01-01|[actor, soundtrac...|[tt0059749, tt008...|\n",
      "|nm0000010|       James Cagney|1899-01-01|1986-01-01|[actor, soundtrac...|[tt0035575, tt003...|\n",
      "|nm0000011|        Gary Cooper|1901-01-01|1961-01-01|[actor, soundtrac...|[tt0044706, tt002...|\n",
      "|nm0000012|        Bette Davis|1908-01-01|1989-01-01|[actress, soundtr...|[tt0035140, tt004...|\n",
      "|nm0000013|          Doris Day|1922-01-01|2019-01-01|[soundtrack, actr...|[tt0045591, tt004...|\n",
      "|nm0000014|Olivia de Havilland|1916-01-01|2020-01-01|[actress, soundtr...|[tt0041452, tt004...|\n",
      "|nm0000015|         James Dean|1931-01-01|1955-01-01|[actor, miscellan...|[tt0048028, tt012...|\n",
      "|nm0000016|    Georges Delerue|1925-01-01|1992-01-01|[composer, soundt...|[tt8847712, tt009...|\n",
      "|nm0000017|   Marlene Dietrich|1901-01-01|1992-01-01|[soundtrack, actr...|[tt0021156, tt005...|\n",
      "|nm0000018|       Kirk Douglas|1916-01-01|2020-01-01|[actor, producer,...|[tt0043465, tt005...|\n",
      "|nm0000019|   Federico Fellini|1920-01-01|1993-01-01|[writer, director...|[tt0050783, tt007...|\n",
      "|nm0000020|        Henry Fonda|1905-01-01|1982-01-01|[actor, producer,...|[tt0032551, tt008...|\n",
      "+---------+-------------------+----------+----------+--------------------+--------------------+\n",
      "only showing top 20 rows\n",
      "\n",
      "None\n",
      "Dataset: akas\n",
      "+---------+--------+--------------------+------+--------+-----------+--------------------+---------------+\n",
      "|  titleId|ordering|               title|region|language|      types|          attributes|isOriginalTitle|\n",
      "+---------+--------+--------------------+------+--------+-----------+--------------------+---------------+\n",
      "|tt0000001|       1|          Карменсіта|    UA|    null|imdbDisplay|                null|           null|\n",
      "|tt0000001|       2|          Carmencita|    DE|    null|       null|       literal title|           null|\n",
      "|tt0000001|       3|Carmencita - span...|    HU|    null|imdbDisplay|                null|           null|\n",
      "|tt0000001|       4|          Καρμενσίτα|    GR|    null|imdbDisplay|                null|           null|\n",
      "|tt0000001|       5|          Карменсита|    RU|    null|imdbDisplay|                null|           null|\n",
      "|tt0000001|       6|          Carmencita|    US|    null|imdbDisplay|                null|           null|\n",
      "|tt0000001|       7|          Carmencita|  null|    null|   original|                null|           null|\n",
      "|tt0000001|       8|      カルメンチータ|    JP|      ja|imdbDisplay|                null|           null|\n",
      "|tt0000002|       1|Le clown et ses c...|  null|    null|   original|                null|           null|\n",
      "|tt0000002|       2|Le clown et ses c...|    FR|    null|imdbDisplay|                null|           null|\n",
      "|tt0000002|       3|   A bohóc és kutyái|    HU|    null|imdbDisplay|                null|           null|\n",
      "|tt0000002|       4|Der Clown und sei...|    DE|    null|       null|       literal title|           null|\n",
      "|tt0000002|       5|Clovnul si cainii...|    RO|    null|imdbDisplay|                null|           null|\n",
      "|tt0000002|       6|  Клоун и его собаки|    RU|    null|imdbDisplay|                null|           null|\n",
      "|tt0000002|       7|The Clown and His...|    US|    null|       null|literal English t...|           null|\n",
      "|tt0000002|       8|          道化師と犬|    JP|      ja|imdbDisplay|                null|           null|\n",
      "|tt0000003|       1|    Sarmanul Pierrot|    RO|    null|imdbDisplay|                null|           null|\n",
      "|tt0000003|       2|     Szegény Pierrot|    HU|    null|imdbDisplay|                null|           null|\n",
      "|tt0000003|       3|        哀れなピエロ|    JP|      ja|imdbDisplay|                null|           null|\n",
      "|tt0000003|       4|        Бідний П'єро|    UA|    null|imdbDisplay|                null|           null|\n",
      "+---------+--------+--------------------+------+--------+-----------+--------------------+---------------+\n",
      "only showing top 20 rows\n",
      "\n",
      "None\n",
      "Dataset: title_basics\n",
      "+---------+---------+--------------------+--------------------+-------+----------+-------+--------------+--------------------+\n",
      "|   tconst|titleType|        primaryTitle|       originalTitle|isAdult| startYear|endYear|runtimeMinutes|              genres|\n",
      "+---------+---------+--------------------+--------------------+-------+----------+-------+--------------+--------------------+\n",
      "|tt0000001|    short|          Carmencita|          Carmencita|   null|1894-01-01|   null|             1|[Documentary, Short]|\n",
      "|tt0000002|    short|Le clown et ses c...|Le clown et ses c...|   null|1892-01-01|   null|             5|  [Animation, Short]|\n",
      "|tt0000003|    short|      Pauvre Pierrot|      Pauvre Pierrot|   null|1892-01-01|   null|             4|[Animation, Comed...|\n",
      "|tt0000004|    short|         Un bon bock|         Un bon bock|   null|1892-01-01|   null|            12|  [Animation, Short]|\n",
      "|tt0000005|    short|    Blacksmith Scene|    Blacksmith Scene|   null|1893-01-01|   null|             1|     [Comedy, Short]|\n",
      "|tt0000006|    short|   Chinese Opium Den|   Chinese Opium Den|   null|1894-01-01|   null|             1|             [Short]|\n",
      "|tt0000007|    short|Corbett and Court...|Corbett and Court...|   null|1894-01-01|   null|             1|      [Short, Sport]|\n",
      "|tt0000008|    short|Edison Kinetoscop...|Edison Kinetoscop...|   null|1894-01-01|   null|             1|[Documentary, Short]|\n",
      "|tt0000009|    movie|          Miss Jerry|          Miss Jerry|   null|1894-01-01|   null|            45|           [Romance]|\n",
      "|tt0000010|    short| Leaving the Factory|La sortie de l'us...|   null|1895-01-01|   null|             1|[Documentary, Short]|\n",
      "|tt0000011|    short|Akrobatisches Pot...|Akrobatisches Pot...|   null|1895-01-01|   null|             1|[Documentary, Short]|\n",
      "|tt0000012|    short|The Arrival of a ...|L'arrivée d'un tr...|   null|1896-01-01|   null|             1|[Documentary, Short]|\n",
      "|tt0000013|    short|The Photographica...|Le débarquement d...|   null|1895-01-01|   null|             1|[Documentary, Short]|\n",
      "|tt0000014|    short| The Waterer Watered|   L'arroseur arrosé|   null|1895-01-01|   null|             1|     [Comedy, Short]|\n",
      "|tt0000015|    short| Autour d'une cabine| Autour d'une cabine|   null|1894-01-01|   null|             2|  [Animation, Short]|\n",
      "|tt0000016|    short|Boat Leaving the ...|Barque sortant du...|   null|1895-01-01|   null|             1|[Documentary, Short]|\n",
      "|tt0000017|    short|Italienischer Bau...|Italienischer Bau...|   null|1895-01-01|   null|             1|[Documentary, Short]|\n",
      "|tt0000018|    short|Das boxende Känguruh|Das boxende Känguruh|   null|1895-01-01|   null|             1|             [Short]|\n",
      "|tt0000019|    short|    The Clown Barber|    The Clown Barber|   null|1898-01-01|   null|          null|     [Comedy, Short]|\n",
      "|tt0000020|    short|      The Derby 1895|      The Derby 1895|   null|1895-01-01|   null|             1|[Documentary, Sho...|\n",
      "+---------+---------+--------------------+--------------------+-------+----------+-------+--------------+--------------------+\n",
      "only showing top 20 rows\n",
      "\n",
      "None\n",
      "Dataset: crew\n",
      "+---------+--------------------+-----------+\n",
      "|   tconst|           directors|    writers|\n",
      "+---------+--------------------+-----------+\n",
      "|tt0000001|         [nm0005690]|       null|\n",
      "|tt0000002|         [nm0721526]|       null|\n",
      "|tt0000003|         [nm0721526]|       null|\n",
      "|tt0000004|         [nm0721526]|       null|\n",
      "|tt0000005|         [nm0005690]|       null|\n",
      "|tt0000006|         [nm0005690]|       null|\n",
      "|tt0000007|[nm0005690, nm037...|       null|\n",
      "|tt0000008|         [nm0005690]|       null|\n",
      "|tt0000009|         [nm0085156]|[nm0085156]|\n",
      "|tt0000010|         [nm0525910]|       null|\n",
      "|tt0000011|         [nm0804434]|       null|\n",
      "|tt0000012|[nm0525908, nm052...|       null|\n",
      "|tt0000013|         [nm0525910]|       null|\n",
      "|tt0000014|         [nm0525910]|       null|\n",
      "|tt0000015|         [nm0721526]|       null|\n",
      "|tt0000016|         [nm0525910]|       null|\n",
      "|tt0000017|[nm1587194, nm080...|       null|\n",
      "|tt0000018|         [nm0804434]|       null|\n",
      "|tt0000019|         [nm0932055]|       null|\n",
      "|tt0000020|         [nm0010291]|       null|\n",
      "+---------+--------------------+-----------+\n",
      "only showing top 20 rows\n",
      "\n",
      "None\n",
      "Dataset: episode\n",
      "+---------+------------+------------+-------------+\n",
      "|   tconst|parentTconst|seasonNumber|episodeNumber|\n",
      "+---------+------------+------------+-------------+\n",
      "|tt0041951|   tt0041038|           1|            9|\n",
      "|tt0042816|   tt0989125|           1|           17|\n",
      "|tt0042889|   tt0989125|        null|         null|\n",
      "|tt0043426|   tt0040051|           3|           42|\n",
      "|tt0043631|   tt0989125|           2|           16|\n",
      "|tt0043693|   tt0989125|           2|            8|\n",
      "|tt0043710|   tt0989125|           3|            3|\n",
      "|tt0044093|   tt0959862|           1|            6|\n",
      "|tt0044668|   tt0044243|           2|           16|\n",
      "|tt0044901|   tt0989125|           3|           46|\n",
      "|tt0045519|   tt0989125|           4|           11|\n",
      "|tt0045960|   tt0044284|           2|            3|\n",
      "|tt0046135|   tt0989125|           4|            5|\n",
      "|tt0046150|   tt0341798|        null|         null|\n",
      "|tt0046855|   tt0046643|           1|            4|\n",
      "|tt0046864|   tt0989125|           5|           20|\n",
      "|tt0047810|   tt0914702|           3|           36|\n",
      "|tt0047852|   tt0047745|           1|           15|\n",
      "|tt0047858|   tt0046637|           2|            9|\n",
      "|tt0047961|   tt0989125|           6|            5|\n",
      "+---------+------------+------------+-------------+\n",
      "only showing top 20 rows\n",
      "\n",
      "None\n",
      "Dataset: principals\n",
      "+---------+--------+---------+---------------+--------------------+----------+\n",
      "|   tconst|ordering|   nconst|       category|                 job|characters|\n",
      "+---------+--------+---------+---------------+--------------------+----------+\n",
      "|tt0000001|       1|nm1588970|           self|                null|      Self|\n",
      "|tt0000001|       2|nm0005690|       director|                null|      null|\n",
      "|tt0000001|       3|nm0374658|cinematographer|director of photo...|      null|\n",
      "|tt0000002|       1|nm0721526|       director|                null|      null|\n",
      "|tt0000002|       2|nm1335271|       composer|                null|      null|\n",
      "|tt0000003|       1|nm0721526|       director|                null|      null|\n",
      "|tt0000003|       2|nm1770680|       producer|            producer|      null|\n",
      "|tt0000003|       3|nm1335271|       composer|                null|      null|\n",
      "|tt0000003|       4|nm5442200|         editor|                null|      null|\n",
      "|tt0000004|       1|nm0721526|       director|                null|      null|\n",
      "|tt0000004|       2|nm1335271|       composer|                null|      null|\n",
      "|tt0000005|       1|nm0443482|          actor|                null|Blacksmith|\n",
      "|tt0000005|       2|nm0653042|          actor|                null| Assistant|\n",
      "|tt0000005|       3|nm0005690|       director|                null|      null|\n",
      "|tt0000005|       4|nm0249379|       producer|            producer|      null|\n",
      "|tt0000006|       1|nm0005690|       director|                null|      null|\n",
      "|tt0000007|       1|nm0179163|          actor|                null|      null|\n",
      "|tt0000007|       2|nm0183947|          actor|                null|      null|\n",
      "|tt0000007|       3|nm0005690|       director|                null|      null|\n",
      "|tt0000007|       4|nm0374658|       director|                null|      null|\n",
      "+---------+--------+---------+---------------+--------------------+----------+\n",
      "only showing top 20 rows\n",
      "\n",
      "None\n",
      "Dataset: ratings\n",
      "+---------+-------------+--------+\n",
      "|   tconst|averageRating|numVotes|\n",
      "+---------+-------------+--------+\n",
      "|tt0000001|          5.7|    1987|\n",
      "|tt0000002|          5.8|     265|\n",
      "|tt0000003|          6.5|    1849|\n",
      "|tt0000004|          5.5|     178|\n",
      "|tt0000005|          6.2|    2632|\n",
      "|tt0000006|          5.1|     182|\n",
      "|tt0000007|          5.4|     825|\n",
      "|tt0000008|          5.4|    2124|\n",
      "|tt0000009|          5.3|     206|\n",
      "|tt0000010|          6.9|    7220|\n",
      "|tt0000011|          5.3|     370|\n",
      "|tt0000012|          7.4|   12351|\n",
      "|tt0000013|          5.7|    1896|\n",
      "|tt0000014|          7.1|    5556|\n",
      "|tt0000015|          6.2|    1097|\n",
      "|tt0000016|          5.9|    1519|\n",
      "|tt0000017|          4.6|     330|\n",
      "|tt0000018|          5.3|     598|\n",
      "|tt0000019|          4.8|      32|\n",
      "|tt0000020|          4.8|     365|\n",
      "+---------+-------------+--------+\n",
      "only showing top 20 rows\n",
      "\n",
      "None\n"
     ]
    }
   ],
   "source": [
    "for dataset, name in datasets:\n",
    "    print(f'Dataset: {name}')\n",
    "    print(dataset.show())"
   ]
  },
  {
   "cell_type": "markdown",
   "id": "9f8a6b3f-b264-44d7-8556-25b2d59d2096",
   "metadata": {},
   "source": [
    "How many ukrainian titles in akas dataframe? <a id='5.3.1'></a>"
   ]
  },
  {
   "cell_type": "code",
   "execution_count": 18,
   "id": "30bd2ecc-1ece-438d-912b-9c587ec356c5",
   "metadata": {},
   "outputs": [
    {
     "data": {
      "text/plain": [
       "27365"
      ]
     },
     "execution_count": 18,
     "metadata": {},
     "output_type": "execute_result"
    }
   ],
   "source": [
    "akas.filter(akas.region == 'UA').count()"
   ]
  },
  {
   "cell_type": "markdown",
   "id": "33ff3ce2-e690-4c0e-b3ec-3f581d083bd1",
   "metadata": {},
   "source": [
    "Get only first 5 those titles which contain 'Short' as genre <a id='5.3.2'></a>"
   ]
  },
  {
   "cell_type": "code",
   "execution_count": 19,
   "id": "933543b4-385b-4f66-9795-b31ee832fb25",
   "metadata": {},
   "outputs": [
    {
     "name": "stdout",
     "output_type": "stream",
     "text": [
      "+---------+---------+--------------------+--------------------+-------+----------+-------+--------------+--------------------+\n",
      "|   tconst|titleType|        primaryTitle|       originalTitle|isAdult| startYear|endYear|runtimeMinutes|              genres|\n",
      "+---------+---------+--------------------+--------------------+-------+----------+-------+--------------+--------------------+\n",
      "|tt0000001|    short|          Carmencita|          Carmencita|   null|1894-01-01|   null|             1|[Documentary, Short]|\n",
      "|tt0000002|    short|Le clown et ses c...|Le clown et ses c...|   null|1892-01-01|   null|             5|  [Animation, Short]|\n",
      "|tt0000004|    short|         Un bon bock|         Un bon bock|   null|1892-01-01|   null|            12|  [Animation, Short]|\n",
      "|tt0000005|    short|    Blacksmith Scene|    Blacksmith Scene|   null|1893-01-01|   null|             1|     [Comedy, Short]|\n",
      "|tt0000006|    short|   Chinese Opium Den|   Chinese Opium Den|   null|1894-01-01|   null|             1|             [Short]|\n",
      "+---------+---------+--------------------+--------------------+-------+----------+-------+--------------+--------------------+\n",
      "\n"
     ]
    }
   ],
   "source": [
    "title_basics.filter(f.array_contains(title_basics.genres, 'Short')).limit(5).show()"
   ]
  },
  {
   "cell_type": "markdown",
   "id": "93456fbf-35bc-4676-b2cd-510f1745c3ad",
   "metadata": {},
   "source": [
    "Which Documentary title has the most numVotes? <a id='5.3.3'></a>"
   ]
  },
  {
   "cell_type": "code",
   "execution_count": 29,
   "id": "fae5bf4e-2758-41fd-8ac6-ba6ada8d903d",
   "metadata": {},
   "outputs": [
    {
     "data": {
      "text/plain": [
       "'Planet Earth'"
      ]
     },
     "execution_count": 29,
     "metadata": {},
     "output_type": "execute_result"
    }
   ],
   "source": [
    "title_basics.filter(f.array_contains(title_basics.genres, 'Documentary')) \\\n",
    "    .select('tconst', 'primaryTitle') \\\n",
    "    .join(ratings, 'tconst', 'inner') \\\n",
    "    .sort(f.desc('numVotes')) \\\n",
    "    .limit(1) \\\n",
    "    .select('primaryTitle') \\\n",
    "    .collect()[0]['primaryTitle']"
   ]
  },
  {
   "cell_type": "markdown",
   "id": "b5321682-acdd-4c12-bc42-895ae74f90bf",
   "metadata": {},
   "source": [
    "Which region is the most common? <a id='5.3.4'></a>"
   ]
  },
  {
   "cell_type": "code",
   "execution_count": 9,
   "id": "e179d176-aafb-4f30-a42d-29e3adfa639e",
   "metadata": {},
   "outputs": [
    {
     "data": {
      "text/plain": [
       "'DE'"
      ]
     },
     "execution_count": 9,
     "metadata": {},
     "output_type": "execute_result"
    }
   ],
   "source": [
    "akas.groupBy('region') \\\n",
    "    .count() \\\n",
    "    .sort(f.desc('count')) \\\n",
    "    .collect()[0]['region']"
   ]
  },
  {
   "cell_type": "markdown",
   "id": "bc859bee-a36f-4157-9fa3-99f9f0ee8664",
   "metadata": {},
   "source": [
    "Get title with the highest average rating <a id='5.3.5'></a>"
   ]
  },
  {
   "cell_type": "code",
   "execution_count": 14,
   "id": "bc10e142-7564-4175-bdf1-d0fba7bd5397",
   "metadata": {},
   "outputs": [
    {
     "data": {
      "text/plain": [
       "'Die Fee'"
      ]
     },
     "execution_count": 14,
     "metadata": {},
     "output_type": "execute_result"
    }
   ],
   "source": [
    "ratings.join(title_basics, 'tconst', 'left') \\\n",
    "    .select('tconst', 'originalTitle', 'averageRating') \\\n",
    "    .sort(f.desc('averageRating')) \\\n",
    "    .collect()[0]['originalTitle']"
   ]
  },
  {
   "cell_type": "markdown",
   "id": "44a35dfc-f807-433f-b5be-486a31b7acba",
   "metadata": {},
   "source": [
    "Get title with the highest number of episodes <a id='5.3.6'></a>"
   ]
  },
  {
   "cell_type": "code",
   "execution_count": 9,
   "id": "b900cecf-1a4a-4b81-a167-0d077a7f7575",
   "metadata": {},
   "outputs": [
    {
     "data": {
      "text/plain": [
       "'NRK Nyheter'"
      ]
     },
     "execution_count": 9,
     "metadata": {},
     "output_type": "execute_result"
    }
   ],
   "source": [
    "episode.groupBy('parentTconst') \\\n",
    "    .count() \\\n",
    "    .join(title_basics, episode.parentTconst == title_basics.tconst, 'left') \\\n",
    "    .sort(f.desc('count')) \\\n",
    "    .collect()[0]['originalTitle']"
   ]
  },
  {
   "cell_type": "markdown",
   "id": "5612ee73-f6cb-4e16-806f-b57fc3a67743",
   "metadata": {},
   "source": [
    "Get title of the top 1 TV Series based on the average user ratings and the number of votes they received? <a id='5.3.7'></a>"
   ]
  },
  {
   "cell_type": "code",
   "execution_count": 21,
   "id": "79ffb9e0-5ea4-447b-858a-1b6e230a31f0",
   "metadata": {},
   "outputs": [
    {
     "data": {
      "text/plain": [
       "'Confessionário Online'"
      ]
     },
     "execution_count": 21,
     "metadata": {},
     "output_type": "execute_result"
    }
   ],
   "source": [
    "# Filter only TV Series from title.basics dataset\n",
    "tv_series_df = title_basics.filter(f.col(\"titleType\") == \"tvSeries\")\n",
    "\n",
    "# Join with title.ratings dataset to get ratings and numVotes\n",
    "tv_series_ratings_df = tv_series_df.join(ratings, \"tconst\")\n",
    "\n",
    "# Create window specification to rank TV Series based on averageRating and numVotes\n",
    "windowSpec = Window.orderBy(f.desc(\"averageRating\"), f.desc(\"numVotes\"))\n",
    "\n",
    "# Add rank column based on windowSpec\n",
    "tv_series_ranked_df = tv_series_ratings_df.withColumn(\"rank\", f.rank().over(windowSpec))\n",
    "\n",
    "# Select the top 10 TV Series\n",
    "top_10_tv_series = tv_series_ranked_df.filter(f.col(\"rank\") <= 10).select(\"tconst\", \"primaryTitle\", \"averageRating\", \"numVotes\")\n",
    "\n",
    "# Show the result\n",
    "top_10_tv_series.collect()[0]['primaryTitle']"
   ]
  },
  {
   "cell_type": "markdown",
   "id": "c7068104-ce75-44db-93ad-64430a1f5a10",
   "metadata": {},
   "source": [
    "Get title of the top 1 TV Series with the most extended runtime per episode? <a id='5.3.8'></a>"
   ]
  },
  {
   "cell_type": "code",
   "execution_count": 22,
   "id": "e1ce7d8f-6184-4826-b26a-811e7125f252",
   "metadata": {},
   "outputs": [
    {
     "data": {
      "text/plain": [
       "'The Sharing Circle'"
      ]
     },
     "execution_count": 22,
     "metadata": {},
     "output_type": "execute_result"
    }
   ],
   "source": [
    "# Filter only TV Series from title.basics dataset\n",
    "tv_series_df = title_basics.filter(f.col(\"titleType\") == \"tvSeries\")\n",
    "\n",
    "# Create a window specification to partition by TV Series and calculate the maximum runtime per episode\n",
    "windowSpec = Window.partitionBy(\"tconst\")\n",
    "\n",
    "# Calculate the maximum runtime per episode for each TV Series\n",
    "tv_series_runtime_df = tv_series_df.withColumn(\"maxRuntimePerEpisode\", f.max(\"runtimeMinutes\").over(windowSpec))\n",
    "\n",
    "# Create a window specification to rank TV Series based on maxRuntimePerEpisode\n",
    "windowSpecRank = Window.orderBy(f.desc(\"maxRuntimePerEpisode\"))\n",
    "\n",
    "# Add rank column based on windowSpecRank\n",
    "tv_series_ranked_df = tv_series_runtime_df.withColumn(\"rank\", f.rank().over(windowSpecRank))\n",
    "\n",
    "# Select the top 10 TV Series based on maxRuntimePerEpisode\n",
    "top_10_tv_series_runtime = tv_series_ranked_df.filter(f.col(\"rank\") <= 10).select(\"tconst\", \"primaryTitle\", \"maxRuntimePerEpisode\")\n",
    "\n",
    "# Show the result\n",
    "top_10_tv_series_runtime.collect()[0]['primaryTitle']"
   ]
  }
 ],
 "metadata": {
  "kernelspec": {
   "display_name": "Python 3 (ipykernel)",
   "language": "python",
   "name": "python3"
  },
  "language_info": {
   "codemirror_mode": {
    "name": "ipython",
    "version": 3
   },
   "file_extension": ".py",
   "mimetype": "text/x-python",
   "name": "python",
   "nbconvert_exporter": "python",
   "pygments_lexer": "ipython3",
   "version": "3.9.7"
  }
 },
 "nbformat": 4,
 "nbformat_minor": 5
}
